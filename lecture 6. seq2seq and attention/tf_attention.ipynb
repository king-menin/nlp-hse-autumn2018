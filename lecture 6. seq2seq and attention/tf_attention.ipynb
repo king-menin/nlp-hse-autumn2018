{
  "nbformat": 4,
  "nbformat_minor": 0,
  "metadata": {
    "colab": {
      "name": "tf attention.ipynb",
      "version": "0.3.2",
      "provenance": [],
      "collapsed_sections": []
    },
    "kernelspec": {
      "name": "python3",
      "display_name": "Python 3"
    },
    "accelerator": "GPU"
  },
  "cells": [
    {
      "metadata": {
        "id": "WQ3Iu56diFCc",
        "colab_type": "code",
        "colab": {}
      },
      "cell_type": "code",
      "source": [
        "from __future__ import unicode_literals, print_function, division\n",
        "from io import open\n",
        "import unicodedata\n",
        "import string\n",
        "import re\n",
        "import random\n",
        "import tensorflow as tf\n",
        "import matplotlib.pyplot as plt\n",
        "%matplotlib inline\n",
        "\n",
        "\n",
        "tf.enable_eager_execution()"
      ],
      "execution_count": 0,
      "outputs": []
    },
    {
      "metadata": {
        "id": "mm5o0dIciNTx",
        "colab_type": "text"
      },
      "cell_type": "markdown",
      "source": [
        "### 1. Генерация данных"
      ]
    },
    {
      "metadata": {
        "id": "2tDO2Gy_iFFQ",
        "colab_type": "code",
        "colab": {}
      },
      "cell_type": "code",
      "source": [
        "import datetime\n",
        "from random import randrange\n",
        "from datetime import timedelta\n",
        "\n",
        "def get_random_date(start, end):\n",
        "    delta = end - start\n",
        "    int_delta = (delta.days * 24 * 60 * 60) + delta.seconds\n",
        "    random_second = randrange(int_delta)\n",
        "    return (start + timedelta(seconds=random_second)).replace(hour=0, minute = 0, second=0)\n",
        "\n",
        "\n",
        "FORMATS = ['%d %b %Y', '%d %B %Y', '%B %dth, %Y', '%b %d, %Y', \n",
        "           '%d/%m/%Y', '%d/%m/%y', '%d-%b-%y', '%d.%m.%Y']\n",
        "\n",
        "TARGET_FORMAT = '%d-%m-%Y'\n",
        "\n",
        "def get_dataset(fst_dt, snd_dt, fmt_dt, num=10000):\n",
        "    fst_d = datetime.datetime.strptime(fst_dt, fmt_dt)\n",
        "    snd_d = datetime.datetime.strptime(snd_dt, fmt_dt)\n",
        "    dataset = []\n",
        "    for i in range(num):\n",
        "        date_format = random.choice(FORMATS)\n",
        "        rand_dt = get_random_date(fst_d, snd_d)\n",
        "        t = (datetime.datetime.strftime(rand_dt, date_format), \n",
        "            datetime.datetime.strftime(rand_dt, TARGET_FORMAT))\n",
        "        dataset.append(t)\n",
        "    return dataset\n",
        "    \n",
        "dataset = get_dataset('1/1/2017', '1/1/2019', '%m/%d/%Y')"
      ],
      "execution_count": 0,
      "outputs": []
    },
    {
      "metadata": {
        "id": "kgNLalociPUh",
        "colab_type": "code",
        "outputId": "93668a69-83d7-4d74-e3cc-947b781faa34",
        "colab": {
          "base_uri": "https://localhost:8080/",
          "height": 199
        }
      },
      "cell_type": "code",
      "source": [
        "dataset[:10]"
      ],
      "execution_count": 4,
      "outputs": [
        {
          "output_type": "execute_result",
          "data": {
            "text/plain": [
              "[('17 Aug 2018', '17-08-2018'),\n",
              " ('October 29th, 2018', '29-10-2018'),\n",
              " ('18 October 2018', '18-10-2018'),\n",
              " ('22 April 2017', '22-04-2017'),\n",
              " ('13.12.2017', '13-12-2017'),\n",
              " ('25 August 2017', '25-08-2017'),\n",
              " ('24-Sep-18', '24-09-2018'),\n",
              " ('17/02/17', '17-02-2017'),\n",
              " ('Jun 18, 2018', '18-06-2018'),\n",
              " ('07/02/2018', '07-02-2018')]"
            ]
          },
          "metadata": {
            "tags": []
          },
          "execution_count": 4
        }
      ]
    },
    {
      "metadata": {
        "id": "PgdrFkZgg37O",
        "colab_type": "text"
      },
      "cell_type": "markdown",
      "source": [
        "### 2. Создаем вспомогательные классы для word2index, index2word"
      ]
    },
    {
      "metadata": {
        "id": "WnSfnNpDg37T",
        "colab_type": "code",
        "colab": {}
      },
      "cell_type": "code",
      "source": [
        "# в нашем случае word является символом\n",
        "class Lang(object):\n",
        "    def __init__(self, name):\n",
        "        self.name = name\n",
        "        self.word2index = {\"<pad>\": 0, \"SOS\": 1, \"EOS\": 2}\n",
        "        self.SOS = \"SOS\"\n",
        "        self.EOS = \"EOS\"\n",
        "        self.pad = \"<pad>\"\n",
        "        self.index2word = {0: \"<pad>\", 1: \"SOS\", 2: \"EOS\"}\n",
        "        self.n_words = 3  # SOS and EOS and pad\n",
        "\n",
        "    def add_sentence(self, sentence):\n",
        "        for word in list(sentence):\n",
        "            self.add_word(word)\n",
        "\n",
        "    def add_word(self, word):\n",
        "        if word not in self.word2index:\n",
        "            self.word2index[word] = self.n_words\n",
        "            self.index2word[self.n_words] = word\n",
        "            self.n_words += 1\n",
        "\n",
        "    def fit(self, sentences):\n",
        "        for sent in sentences:\n",
        "          self.add_sentence(sent)\n",
        "  \n",
        "    def transform(self, sentences):\n",
        "        res = []\n",
        "        for sent in sentences:\n",
        "            sent = [self.word2index[self.SOS]] + [self.word2index[w] for w in sent] + [self.word2index[self.EOS]]\n",
        "            res.append(sent)\n",
        "        return res\n",
        "            "
      ],
      "execution_count": 0,
      "outputs": []
    },
    {
      "metadata": {
        "id": "-GZ90EfMcGUk",
        "colab_type": "code",
        "colab": {}
      },
      "cell_type": "code",
      "source": [
        "def create_keras_data(inp_lang_name=\"human\", targ_lang_name=\"iso\", size=10000):\n",
        "  pairs = get_dataset('1/1/2017', '1/1/2019', '%m/%d/%Y', size)\n",
        "  input_tensor = [x[0] for x in pairs]\n",
        "  target_tensor = [x[1] for x in pairs]\n",
        "  \n",
        "  \n",
        "  inp_lang = Lang(inp_lang_name)\n",
        "  inp_lang.fit(input_tensor)\n",
        "  targ_lang = Lang(targ_lang_name)\n",
        "  targ_lang.fit(target_tensor)\n",
        "  \n",
        "  input_tensor = inp_lang.transform(input_tensor)\n",
        "  target_tensor = targ_lang.transform(target_tensor)\n",
        "  \n",
        "  max_length_inp = max(map(len, input_tensor))\n",
        "  max_length_tar = max(map(len, target_tensor))\n",
        "  \n",
        "  input_tensor = tf.keras.preprocessing.sequence.pad_sequences(input_tensor, \n",
        "                                                               maxlen=max_length_inp,\n",
        "                                                               padding='post',\n",
        "                                                               value=inp_lang.word2index[inp_lang.pad])\n",
        "  \n",
        "  target_tensor = tf.keras.preprocessing.sequence.pad_sequences(target_tensor, \n",
        "                                                                maxlen=max_length_tar, \n",
        "                                                                padding='post',\n",
        "                                                                value=targ_lang.word2index[targ_lang.pad])\n",
        "  return input_tensor, target_tensor, inp_lang, targ_lang, max_length_inp, max_length_tar"
      ],
      "execution_count": 0,
      "outputs": []
    },
    {
      "metadata": {
        "id": "-Rpvs0SRhoHC",
        "colab_type": "code",
        "colab": {}
      },
      "cell_type": "code",
      "source": [
        "input_tensor, target_tensor, inp_lang, targ_lang, max_length_inp, max_length_targ = create_keras_data()"
      ],
      "execution_count": 0,
      "outputs": []
    },
    {
      "metadata": {
        "id": "vIDJA2Zoiiq4",
        "colab_type": "code",
        "outputId": "9bfa244b-e58a-4f9d-99cb-2f166e0eb61f",
        "colab": {
          "base_uri": "https://localhost:8080/",
          "height": 35
        }
      },
      "cell_type": "code",
      "source": [
        "input_tensor.shape, target_tensor.shape, max_length_inp, max_length_targ, inp_lang.n_words, targ_lang.n_words"
      ],
      "execution_count": 8,
      "outputs": [
        {
          "output_type": "execute_result",
          "data": {
            "text/plain": [
              "((10000, 22), (10000, 12), 22, 12, 44, 14)"
            ]
          },
          "metadata": {
            "tags": []
          },
          "execution_count": 8
        }
      ]
    },
    {
      "metadata": {
        "id": "rXysDJZolNAS",
        "colab_type": "text"
      },
      "cell_type": "markdown",
      "source": [
        "#### Split on train and test"
      ]
    },
    {
      "metadata": {
        "id": "Cit8tyy6k-kb",
        "colab_type": "code",
        "colab": {}
      },
      "cell_type": "code",
      "source": [
        "from sklearn.model_selection import train_test_split\n",
        "\n",
        "\n",
        "input_tensor_train, input_tensor_val, target_tensor_train, target_tensor_val = train_test_split(input_tensor, target_tensor, test_size=0.1)"
      ],
      "execution_count": 0,
      "outputs": []
    },
    {
      "metadata": {
        "id": "8il8I4QmlSPI",
        "colab_type": "code",
        "outputId": "81f298ba-24c9-4bf9-ff47-3d1e4aefcf22",
        "colab": {
          "base_uri": "https://localhost:8080/",
          "height": 35
        }
      },
      "cell_type": "code",
      "source": [
        "len(input_tensor_train), len(target_tensor_train), len(input_tensor_val), len(target_tensor_val)"
      ],
      "execution_count": 10,
      "outputs": [
        {
          "output_type": "execute_result",
          "data": {
            "text/plain": [
              "(9000, 9000, 1000, 1000)"
            ]
          },
          "metadata": {
            "tags": []
          },
          "execution_count": 10
        }
      ]
    },
    {
      "metadata": {
        "id": "JgIXlXmJmNgb",
        "colab_type": "code",
        "outputId": "4ad3b28d-fda9-4cdd-a01d-bb9649d13996",
        "colab": {
          "base_uri": "https://localhost:8080/",
          "height": 35
        }
      },
      "cell_type": "code",
      "source": [
        "inp_lang.n_words"
      ],
      "execution_count": 11,
      "outputs": [
        {
          "output_type": "execute_result",
          "data": {
            "text/plain": [
              "44"
            ]
          },
          "metadata": {
            "tags": []
          },
          "execution_count": 11
        }
      ]
    },
    {
      "metadata": {
        "id": "hKJVIN5elWXd",
        "colab_type": "code",
        "colab": {
          "base_uri": "https://localhost:8080/",
          "height": 92
        },
        "outputId": "4d686d39-0342-4262-ae6b-13330668be0d"
      },
      "cell_type": "code",
      "source": [
        "BUFFER_SIZE = len(input_tensor_train)\n",
        "BATCH_SIZE = 64\n",
        "embedding_dim = 256\n",
        "units = 256\n",
        "vocab_inp_size = inp_lang.n_words\n",
        "vocab_tar_size = targ_lang.n_words\n",
        "\n",
        "dataset = tf.data.Dataset.from_tensor_slices((input_tensor_train, target_tensor_train)).shuffle(BUFFER_SIZE)\n",
        "dataset = dataset.apply(tf.contrib.data.batch_and_drop_remainder(BATCH_SIZE))"
      ],
      "execution_count": 12,
      "outputs": [
        {
          "output_type": "stream",
          "text": [
            "WARNING:tensorflow:From <ipython-input-12-7f8378af102f>:9: batch_and_drop_remainder (from tensorflow.contrib.data.python.ops.batching) is deprecated and will be removed in a future version.\n",
            "Instructions for updating:\n",
            "Use `tf.data.Dataset.batch(..., drop_remainder=True)`.\n"
          ],
          "name": "stdout"
        }
      ]
    },
    {
      "metadata": {
        "id": "lkPMnnbkmEQf",
        "colab_type": "text"
      },
      "cell_type": "markdown",
      "source": [
        "### 3. Seq2Seq Model without attention\n",
        "- модель, состоящая из двух RNN: encoder и decoder.  Encoder считывает предложение и выдает вектор (закодированное предложение), decoder считывает этот вектор и генерирует предложение.\n",
        "- в конец исходного предложения добавляем EOS-символ (его векторное представление, получающееся после применения encoder - и есть вектор, который будем подавать в decoder)\n",
        "- на вход decoder в качестве первого символа подается SOS-символ, а в качестве начального скрытого состояния подается эмбеддинг EOS-символа из encoder"
      ]
    },
    {
      "metadata": {
        "id": "fZDwI9q4mdrC",
        "colab_type": "code",
        "colab": {}
      },
      "cell_type": "code",
      "source": [
        "def gru(units, return_sequences=True):\n",
        "  # If you have a GPU, we recommend using CuDNNGRU(provides a 3x speedup than GRU)\n",
        "  # the code automatically does that.\n",
        "  if tf.test.is_gpu_available():\n",
        "    return tf.keras.layers.CuDNNGRU(units, \n",
        "                                    return_sequences=return_sequences, \n",
        "                                    return_state=True, \n",
        "                                    recurrent_initializer='glorot_uniform')\n",
        "  else:\n",
        "    return tf.keras.layers.GRU(units, \n",
        "                               return_sequences=True, \n",
        "                               return_state=True, \n",
        "                               recurrent_activation='sigmoid', \n",
        "                               recurrent_initializer='glorot_uniform')"
      ],
      "execution_count": 0,
      "outputs": []
    },
    {
      "metadata": {
        "id": "U_zMkN4RmlTe",
        "colab_type": "text"
      },
      "cell_type": "markdown",
      "source": [
        "#### Write encoder"
      ]
    },
    {
      "metadata": {
        "id": "dpQ7p3LcmkSK",
        "colab_type": "code",
        "colab": {}
      },
      "cell_type": "code",
      "source": [
        "class Encoder(tf.keras.Model):\n",
        "    def __init__(self, vocab_size, embedding_dim, enc_units, batch_sz):\n",
        "        super(Encoder, self).__init__()\n",
        "        self.batch_sz = batch_sz\n",
        "        self.enc_units = enc_units\n",
        "        <your code here>\n",
        "        \n",
        "    def call(self, x, hidden=None):\n",
        "        <your code here>\n",
        "    \n",
        "    def initialize_hidden_state(self):\n",
        "        return tf.zeros((self.batch_sz, self.enc_units))"
      ],
      "execution_count": 0,
      "outputs": []
    },
    {
      "metadata": {
        "id": "sVu4Of2mm8XR",
        "colab_type": "text"
      },
      "cell_type": "markdown",
      "source": [
        "#### Write decoder"
      ]
    },
    {
      "metadata": {
        "id": "O27IHLfnm_Ff",
        "colab_type": "code",
        "colab": {}
      },
      "cell_type": "code",
      "source": [
        "class Decoder(tf.keras.Model):\n",
        "    def __init__(self, vocab_size, embedding_dim, dec_units, batch_sz):\n",
        "        super(Decoder, self).__init__()\n",
        "        <your code here>\n",
        "\n",
        "    def call(self, x, hidden, enc_output):\n",
        "        # enc_output (batch_size, max_length, enc_hidden)\n",
        "        # hidden (batch_size, enc_hidden)\n",
        "        # enc_output (64, 22, 256) hidden (64, 256) x (64, 1, 256)\n",
        "        \n",
        "        \n",
        "        # output shape == (batch_size, vocab)\n",
        "        <your code here>\n",
        "        \n",
        "        \n",
        "\n",
        "\n",
        "    def initialize_hidden_state(self):\n",
        "        return tf.zeros((self.batch_sz, self.dec_units))\n"
      ],
      "execution_count": 0,
      "outputs": []
    },
    {
      "metadata": {
        "id": "gcUinLZ_n_8Y",
        "colab_type": "code",
        "colab": {}
      },
      "cell_type": "code",
      "source": [
        "encoder = Encoder(vocab_inp_size, embedding_dim, units, BATCH_SIZE)\n",
        "decoder = Decoder(vocab_tar_size, embedding_dim, units, BATCH_SIZE)"
      ],
      "execution_count": 0,
      "outputs": []
    },
    {
      "metadata": {
        "id": "RT3G3b9ioWU3",
        "colab_type": "text"
      },
      "cell_type": "markdown",
      "source": [
        "#### Define optimizer and loss\n",
        "\n",
        "Implement masked loss."
      ]
    },
    {
      "metadata": {
        "id": "advi5ngVn__Y",
        "colab_type": "code",
        "colab": {}
      },
      "cell_type": "code",
      "source": [
        "optimizer = tf.train.AdamOptimizer()\n",
        "\n",
        "\n",
        "def loss_function(real, pred):\n",
        "  mask = <your code here>\n",
        "  loss_ = <your code here>\n",
        "  return tf.reduce_mean(loss_)"
      ],
      "execution_count": 0,
      "outputs": []
    },
    {
      "metadata": {
        "id": "JbTZcYCXvp61",
        "colab_type": "text"
      },
      "cell_type": "markdown",
      "source": [
        "#### Evaluate"
      ]
    },
    {
      "metadata": {
        "id": "I-wa_EnEoAEG",
        "colab_type": "code",
        "colab": {}
      },
      "cell_type": "code",
      "source": [
        "def evaluate(sentence, encoder, decoder, inp_lang, targ_lang, max_length_inp, max_length_targ):\n",
        "    inputs = inp_lang.transform([sentence])[0]\n",
        "\n",
        "    inputs = tf.keras.preprocessing.sequence.pad_sequences([inputs], maxlen=max_length_inp, padding='post')\n",
        "    inputs = tf.convert_to_tensor(inputs)\n",
        "    \n",
        "    result = ''\n",
        "\n",
        "    hidden = [tf.zeros((1, units))]\n",
        "    enc_out, enc_hidden = encoder(inputs, hidden)\n",
        "\n",
        "    dec_hidden = enc_hidden\n",
        "    dec_input = tf.expand_dims([targ_lang.word2index[targ_lang.SOS]], 0)\n",
        "\n",
        "    for t in range(max_length_targ):\n",
        "        predictions, dec_hidden = decoder(dec_input, dec_hidden, enc_out)\n",
        "\n",
        "        predicted_id = tf.multinomial(tf.exp(predictions), num_samples=1)[0][0].numpy()\n",
        "\n",
        "        result += targ_lang.index2word[predicted_id]\n",
        "\n",
        "        if targ_lang.index2word[predicted_id] == targ_lang.EOS:\n",
        "            return result, sentence\n",
        "        \n",
        "        # the predicted ID is fed back into the model\n",
        "        dec_input = tf.expand_dims([predicted_id], 0)\n",
        "\n",
        "    return result, sentence"
      ],
      "execution_count": 0,
      "outputs": []
    },
    {
      "metadata": {
        "id": "fP3HSEnYxDfD",
        "colab_type": "code",
        "colab": {}
      },
      "cell_type": "code",
      "source": [
        "def translate(sentence, encoder, decoder, inp_lang, targ_lang, max_length_inp, max_length_targ):\n",
        "    result, sentence = evaluate(sentence, encoder, decoder, inp_lang, targ_lang, max_length_inp, max_length_targ)\n",
        "        \n",
        "    print('Input: {}'.format(sentence))\n",
        "    print('Predicted translation: {}'.format(result))"
      ],
      "execution_count": 0,
      "outputs": []
    },
    {
      "metadata": {
        "id": "67SN1S2qxDiJ",
        "colab_type": "code",
        "outputId": "0ac88378-4ac4-440e-ff02-8a94ad39a21d",
        "colab": {
          "base_uri": "https://localhost:8080/",
          "height": 54
        }
      },
      "cell_type": "code",
      "source": [
        "translate(\"05 October 2017\", encoder, decoder, inp_lang, targ_lang, max_length_inp, max_length_targ)"
      ],
      "execution_count": 0,
      "outputs": [
        {
          "output_type": "stream",
          "text": [
            "Input: 05 October 2017\n",
            "Predicted translation: SOS-661<pad>11<pad>795\n"
          ],
          "name": "stdout"
        }
      ]
    },
    {
      "metadata": {
        "id": "NMFqmyouop8J",
        "colab_type": "text"
      },
      "cell_type": "markdown",
      "source": [
        "#### Training loop"
      ]
    },
    {
      "metadata": {
        "id": "pvQ2YJP3oACo",
        "colab_type": "code",
        "colab": {}
      },
      "cell_type": "code",
      "source": [
        "import time\n",
        "import numpy as np\n",
        "\n",
        "\n",
        "epochs=100\n",
        "plot_every = 5\n",
        "plot_losses = []\n",
        "\n",
        "\n",
        "for epoch in range(epochs):\n",
        "    start = time.time()\n",
        "\n",
        "    hidden = encoder.initialize_hidden_state()\n",
        "    total_loss = 0\n",
        "\n",
        "    for (batch, (inp, targ)) in enumerate(dataset):\n",
        "        loss = 0\n",
        "\n",
        "        with tf.GradientTape() as tape:\n",
        "            enc_output, enc_hidden = encoder(inp, hidden)\n",
        "            \n",
        "            dec_hidden = enc_hidden\n",
        "\n",
        "            dec_input = tf.expand_dims([targ_lang.word2index[targ_lang.SOS]] * BATCH_SIZE, 1)       \n",
        "\n",
        "            # Teacher forcing - feeding the target as the next input\n",
        "            for t in range(1, targ.shape[1]):\n",
        "                # passing enc_output to the decoder\n",
        "                predictions, dec_hidden = decoder(dec_input, dec_hidden, enc_output)\n",
        "\n",
        "                loss += loss_function(targ[:, t], predictions)\n",
        "\n",
        "                # using teacher forcing\n",
        "                dec_input = tf.expand_dims(targ[:, t], 1)\n",
        "\n",
        "        total_loss += (loss / int(targ.shape[1]))\n",
        "\n",
        "        variables = encoder.variables + decoder.variables\n",
        "\n",
        "        gradients = tape.gradient(loss, variables)\n",
        "\n",
        "        optimizer.apply_gradients(zip(gradients, variables), tf.train.get_or_create_global_step())\n",
        "\n",
        "        if batch % 100 == 0:\n",
        "            print('Epoch {} Batch {} Loss {:.4f}'.format(epoch + 1,\n",
        "                                                         batch,\n",
        "                                                         loss.numpy() / int(targ.shape[1])))\n",
        "\n",
        "    print('Epoch {} Loss {:.4f}'.format(epoch + 1,\n",
        "                                        total_loss/len(input_tensor)))\n",
        "    print('Time taken for 1 epoch {} sec\\n'.format(time.time() - start))\n",
        "\n",
        "    translate(\"05 October 2017\", encoder, decoder, inp_lang, targ_lang, max_length_inp, max_length_targ)\n",
        "    translate(\"December 17th, 2022\", encoder, decoder, inp_lang, targ_lang, max_length_inp, max_length_targ)\n",
        "    \n",
        "    print()\n",
        "    plot_losses.append(total_loss)\n",
        "    "
      ],
      "execution_count": 0,
      "outputs": []
    },
    {
      "metadata": {
        "id": "WaWHNXG5g37c",
        "colab_type": "text"
      },
      "cell_type": "markdown",
      "source": [
        "### 4. The Seq2Seq Model with attention"
      ]
    },
    {
      "metadata": {
        "id": "TNfHIF71ulLu",
        "colab_type": "text"
      },
      "cell_type": "markdown",
      "source": [
        "## Write the encoder and decoder model\n",
        "\n",
        "Here, we'll implement an encoder-decoder model with attention which you can read about in the TensorFlow [Neural Machine Translation (seq2seq) tutorial](https://www.tensorflow.org/tutorials/seq2seq). This example uses a more recent set of APIs. This notebook implements the [attention equations](https://www.tensorflow.org/tutorials/seq2seq#background_on_the_attention_mechanism) from the seq2seq tutorial. The following diagram shows that each input words is assigned a weight by the attention mechanism which is then used by the decoder to predict the next word in the sentence.\n",
        "\n",
        "<img src=\"https://www.tensorflow.org/images/seq2seq/attention_mechanism.jpg\" width=\"500\" alt=\"attention mechanism\">\n",
        "\n",
        "The input is put through an encoder model which gives us the encoder output of shape *(batch_size, max_length, hidden_size)* and the encoder hidden state of shape *(batch_size, hidden_size)*. \n",
        "\n",
        "Here are the equations that are implemented:\n",
        "\n",
        "<img src=\"https://www.tensorflow.org/images/seq2seq/attention_equation_0.jpg\" alt=\"attention equation 0\" width=\"800\">\n",
        "<img src=\"https://www.tensorflow.org/images/seq2seq/attention_equation_1.jpg\" alt=\"attention equation 1\" width=\"800\">\n",
        "\n",
        "We're using *Bahdanau attention*. Lets decide on notation before writing the simplified form:\n",
        "\n",
        "* FC = Fully connected (dense) layer\n",
        "* EO = Encoder output\n",
        "* H = hidden state\n",
        "* X = input to the decoder\n",
        "\n",
        "And the pseudo-code:\n",
        "\n",
        "* `score = FC(tanh(FC(EO) + FC(H)))`\n",
        "* `attention weights = softmax(score, axis = 1)`. Softmax by default is applied on the last axis but here we want to apply it on the *1st axis*, since the shape of score is *(batch_size, max_length, hidden_size)*. `Max_length` is the length of our input. Since we are trying to assign a weight to each input, softmax should be applied on that axis.\n",
        "* `context vector = sum(attention weights * EO, axis = 1)`. Same reason as above for choosing axis as 1.\n",
        "* `embedding output` = The input to the decoder X is passed through an embedding layer.\n",
        "* `merged vector = concat(embedding output, context vector)`\n",
        "* This merged vector is then given to the GRU\n",
        "  \n",
        "The shapes of all the vectors at each step have been specified in the comments in the code:"
      ]
    },
    {
      "metadata": {
        "id": "N2Pdf7UUlw3N",
        "colab_type": "text"
      },
      "cell_type": "markdown",
      "source": [
        "#### Модель с attention decoder"
      ]
    },
    {
      "metadata": {
        "id": "VDk87ciplevA",
        "colab_type": "code",
        "colab": {}
      },
      "cell_type": "code",
      "source": [
        "class AttentionDecoder(tf.keras.Model):\n",
        "    def __init__(self, vocab_size, embedding_dim, dec_units, batch_sz):\n",
        "        super(AttentionDecoder, self).__init__()\n",
        "        self.batch_sz = batch_sz\n",
        "        self.dec_units = dec_units\n",
        "        <your code here>\n",
        "        \n",
        "        # used for attention\n",
        "        <your code here>\n",
        "        \n",
        "    def call(self, x, hidden, enc_output):\n",
        "        # enc_output shape == (batch_size, max_length, hidden_size)\n",
        "        \n",
        "        # hidden shape == (batch_size, hidden size)\n",
        "        # hidden_with_time_axis shape == (batch_size, 1, hidden size)\n",
        "        # we are doing this to perform addition to calculate the score\n",
        "        hidden_with_time_axis = tf.expand_dims(hidden, 1)\n",
        "        \n",
        "        # score shape == (batch_size, max_length, hidden_size)\n",
        "        score = <your code here>\n",
        "        \n",
        "        # attention_weights shape == (batch_size, max_length, 1)\n",
        "        # we get 1 at the last axis because we are applying score to self.V\n",
        "        attention_weights = <your code here>\n",
        "        \n",
        "        # context_vector shape after sum == (batch_size, hidden_size)\n",
        "        context_vector = <your code here>\n",
        "        context_vector = <your code here>\n",
        "        \n",
        "        # x shape after passing through embedding == (batch_size, 1, embedding_dim)\n",
        "        x = <your code here>\n",
        "        \n",
        "        # x shape after concatenation == (batch_size, 1, embedding_dim + hidden_size)\n",
        "        x = <your code here>\n",
        "        \n",
        "        # passing the concatenated vector to the GRU\n",
        "        output, state = self.gru(x)\n",
        "        \n",
        "        # output shape == (batch_size * max_length, hidden_size)\n",
        "        output = tf.reshape(output, (-1, output.shape[2]))\n",
        "        \n",
        "        # output shape == (batch_size * max_length, vocab)\n",
        "        x = <your code here>\n",
        "        \n",
        "        return x, state, attention_weights\n",
        "        \n",
        "    def initialize_hidden_state(self):\n",
        "        return tf.zeros((self.batch_sz, self.dec_units))"
      ],
      "execution_count": 0,
      "outputs": []
    },
    {
      "metadata": {
        "id": "YHNDOQaOle3r",
        "colab_type": "code",
        "colab": {}
      },
      "cell_type": "code",
      "source": [
        "encoder = Encoder(vocab_inp_size, embedding_dim, units, BATCH_SIZE)\n",
        "decoder = AttentionDecoder(vocab_tar_size, embedding_dim, units, BATCH_SIZE)"
      ],
      "execution_count": 0,
      "outputs": []
    },
    {
      "metadata": {
        "id": "ajc4Cnakx3EH",
        "colab_type": "code",
        "colab": {}
      },
      "cell_type": "code",
      "source": [
        "optimizer = tf.train.AdamOptimizer()\n",
        "\n",
        "\n",
        "def loss_function(real, pred):\n",
        "  mask = 1 - np.equal(real, 0)\n",
        "  loss_ = tf.nn.sparse_softmax_cross_entropy_with_logits(labels=real, logits=pred) * mask\n",
        "  return tf.reduce_mean(loss_)"
      ],
      "execution_count": 0,
      "outputs": []
    },
    {
      "metadata": {
        "id": "Gqxje7xO_uoY",
        "colab_type": "text"
      },
      "cell_type": "markdown",
      "source": [
        "#### Rewrite evaluation funcs"
      ]
    },
    {
      "metadata": {
        "id": "y5ST70jcyDo-",
        "colab_type": "code",
        "colab": {}
      },
      "cell_type": "code",
      "source": [
        "def evaluate(sentence, encoder, decoder, inp_lang, targ_lang, max_length_inp, max_length_targ):\n",
        "    attention_plot = np.zeros((max_length_targ, max_length_inp))\n",
        "    \n",
        "    # sentence = preprocess_sentence(sentence)\n",
        "\n",
        "    # inputs = [inp_lang.word2idx[i] for i in sentence.split(' ')]\n",
        "    inputs = inp_lang.transform([sentence])[0]\n",
        "    inputs = tf.keras.preprocessing.sequence.pad_sequences([inputs], maxlen=max_length_inp, padding='post')\n",
        "    inputs = tf.convert_to_tensor(inputs)\n",
        "    \n",
        "    result = ''\n",
        "\n",
        "    hidden = [tf.zeros((1, units))]\n",
        "    enc_out, enc_hidden = encoder(inputs, hidden)\n",
        "\n",
        "    dec_hidden = enc_hidden\n",
        "    dec_input = tf.expand_dims([targ_lang.word2index[targ_lang.SOS]], 0)\n",
        "\n",
        "    for t in range(max_length_targ):\n",
        "        predictions, dec_hidden, attention_weights = decoder(dec_input, dec_hidden, enc_out)\n",
        "        \n",
        "        # storing the attention weigths to plot later on\n",
        "        attention_weights = tf.reshape(attention_weights, (-1, ))\n",
        "        attention_plot[t] = attention_weights.numpy()\n",
        "\n",
        "        predicted_id = tf.multinomial(tf.exp(predictions), num_samples=1)[0][0].numpy()\n",
        "\n",
        "        result += targ_lang.index2word[predicted_id]\n",
        "\n",
        "        if targ_lang.index2word[predicted_id] == targ_lang.EOS:\n",
        "            return result, sentence, attention_plot\n",
        "        \n",
        "        # the predicted ID is fed back into the model\n",
        "        dec_input = tf.expand_dims([predicted_id], 0)\n",
        "\n",
        "    return result, sentence, attention_plot"
      ],
      "execution_count": 0,
      "outputs": []
    },
    {
      "metadata": {
        "id": "Q9WkBVKWyP_M",
        "colab_type": "code",
        "colab": {}
      },
      "cell_type": "code",
      "source": [
        "import matplotlib.ticker as ticker\n",
        "\n",
        "\n",
        "# function for plotting the attention weights\n",
        "def plot_attention(attention, sentence, predicted_sentence):\n",
        "\n",
        "    # Set up figure with colorbar\n",
        "    fig = plt.figure(figsize=(10, 8))\n",
        "    ax = fig.add_subplot(111)\n",
        "    cax = ax.matshow(attention, cmap='bone')\n",
        "    fig.colorbar(cax)\n",
        "\n",
        "    # Set up axes\n",
        "    ax.set_xticklabels([''] + list(sentence) +\n",
        "                       ['EOS'], rotation=90)\n",
        "    ax.set_yticklabels([''] + list(predicted_sentence.replace(\"EOS\", \"\")) + [\"EOS\"])\n",
        "\n",
        "    # Show label at every tick\n",
        "    ax.xaxis.set_major_locator(ticker.MultipleLocator(1))\n",
        "    ax.yaxis.set_major_locator(ticker.MultipleLocator(1))\n",
        "\n",
        "    plt.show()\n"
      ],
      "execution_count": 0,
      "outputs": []
    },
    {
      "metadata": {
        "id": "3n-SVaUeySVJ",
        "colab_type": "code",
        "colab": {}
      },
      "cell_type": "code",
      "source": [
        "def translate(sentence, encoder, decoder, inp_lang, targ_lang, max_length_inp, max_length_targ, is_plot_attn=False):\n",
        "    result, sentence, attention_plot = evaluate(sentence, encoder, decoder, inp_lang, targ_lang, max_length_inp, max_length_targ)\n",
        "        \n",
        "    print('Input: {}'.format(sentence))\n",
        "    print('Predicted translation: {}'.format(result))\n",
        "    if is_plot_attn:\n",
        "      attention_plot = attention_plot\n",
        "      plot_attention(attention_plot, sentence, result)"
      ],
      "execution_count": 0,
      "outputs": []
    },
    {
      "metadata": {
        "id": "WLLe7WQGCF59",
        "colab_type": "text"
      },
      "cell_type": "markdown",
      "source": [
        "#### Train model with attention"
      ]
    },
    {
      "metadata": {
        "id": "qR9dRb2_x5mY",
        "colab_type": "code",
        "colab": {}
      },
      "cell_type": "code",
      "source": [
        "EPOCHS = 20\n",
        "plot_losses = []\n",
        "\n",
        "\n",
        "for epoch in range(EPOCHS):\n",
        "    start = time.time()\n",
        "    \n",
        "    hidden = encoder.initialize_hidden_state()\n",
        "    total_loss = 0\n",
        "    \n",
        "    for (batch, (inp, targ)) in enumerate(dataset):\n",
        "        loss = 0\n",
        "        \n",
        "        with tf.GradientTape() as tape:\n",
        "            enc_output, enc_hidden = encoder(inp, hidden)\n",
        "            \n",
        "            dec_hidden = enc_hidden\n",
        "            \n",
        "            dec_input = tf.expand_dims([targ_lang.word2index[targ_lang.SOS]] * BATCH_SIZE, 1)       \n",
        "            \n",
        "            # Teacher forcing - feeding the target as the next input\n",
        "            for t in range(1, targ.shape[1]):\n",
        "                # passing enc_output to the decoder\n",
        "                predictions, dec_hidden, _ = decoder(dec_input, dec_hidden, enc_output)\n",
        "                \n",
        "                loss += loss_function(targ[:, t], predictions)\n",
        "                \n",
        "                # using teacher forcing\n",
        "                dec_input = tf.expand_dims(targ[:, t], 1)\n",
        "\n",
        "        total_loss += (loss / int(targ.shape[1]))\n",
        "        \n",
        "        variables = encoder.variables + decoder.variables\n",
        "        \n",
        "        gradients = tape.gradient(loss, variables)\n",
        "      \n",
        "        optimizer.apply_gradients(zip(gradients, variables), tf.train.get_or_create_global_step())\n",
        "\n",
        "        if batch % 100 == 0:\n",
        "            print('Epoch {} Batch {} Loss {:.4f}'.format(epoch + 1,\n",
        "                                                         batch,\n",
        "                                                         loss.numpy() / int(targ.shape[1])))\n",
        "    \n",
        "    print('Epoch {} Loss {:.4f}'.format(epoch + 1,\n",
        "                                        total_loss/len(input_tensor)))\n",
        "    print('Time taken for 1 epoch {} sec\\n'.format(time.time() - start))\n",
        "    \n",
        "    translate(\"05 October 2017\", encoder, decoder, inp_lang, targ_lang, max_length_inp, max_length_targ)\n",
        "    translate(\"December 17th, 2022\", encoder, decoder, inp_lang, targ_lang, max_length_inp, max_length_targ)\n",
        "    print()\n",
        "    \n",
        "    plot_losses.append(total_loss)"
      ],
      "execution_count": 0,
      "outputs": []
    },
    {
      "metadata": {
        "id": "oEULGd8NBJA6",
        "colab_type": "text"
      },
      "cell_type": "markdown",
      "source": [
        "#### Plot attention"
      ]
    },
    {
      "metadata": {
        "id": "qJGEIbIn07qm",
        "colab_type": "code",
        "outputId": "58c05342-23ad-41ac-9539-940c30cd753c",
        "colab": {
          "base_uri": "https://localhost:8080/",
          "height": 509
        }
      },
      "cell_type": "code",
      "source": [
        "translate(\"05 October 2017\", encoder, decoder, inp_lang, targ_lang, max_length_inp, max_length_targ, True)"
      ],
      "execution_count": 0,
      "outputs": [
        {
          "output_type": "stream",
          "text": [
            "Input: 05 October 2017\n",
            "Predicted translation: 05-10-2017EOS\n"
          ],
          "name": "stdout"
        },
        {
          "output_type": "display_data",
          "data": {
            "image/png": "[encoded data removed]",
            "text/plain": [
              "<matplotlib.figure.Figure at 0x7f044377f278>"
            ]
          },
          "metadata": {
            "tags": []
          }
        }
      ]
    },
    {
      "metadata": {
        "id": "dtL1KgIpBM6p",
        "colab_type": "code",
        "outputId": "8a737d1a-4265-4f56-af36-2391d5c40091",
        "colab": {
          "base_uri": "https://localhost:8080/",
          "height": 509
        }
      },
      "cell_type": "code",
      "source": [
        "translate(\"10-10-2017\", encoder, decoder, inp_lang, targ_lang, max_length_inp, max_length_targ, True)"
      ],
      "execution_count": 0,
      "outputs": [
        {
          "output_type": "stream",
          "text": [
            "Input: 10-10-2017\n",
            "Predicted translation: 10-10-2017EOS\n"
          ],
          "name": "stdout"
        },
        {
          "output_type": "display_data",
          "data": {
            "image/png": "[encoded data removed]",
            "text/plain": [
              "<matplotlib.figure.Figure at 0x7f042d7ce1d0>"
            ]
          },
          "metadata": {
            "tags": []
          }
        }
      ]
    },
    {
      "metadata": {
        "id": "7OUFpwb7DEST",
        "colab_type": "code",
        "outputId": "a05e98d1-5cbc-4b43-a1c5-6f1feb7f463c",
        "colab": {
          "base_uri": "https://localhost:8080/",
          "height": 509
        }
      },
      "cell_type": "code",
      "source": [
        "translate(\"10 10 2020\", encoder, decoder, inp_lang, targ_lang, max_length_inp, max_length_targ, True)"
      ],
      "execution_count": 0,
      "outputs": [
        {
          "output_type": "stream",
          "text": [
            "Input: 10 10 2020\n",
            "Predicted translation: 10-01-2018EOS\n"
          ],
          "name": "stdout"
        },
        {
          "output_type": "display_data",
          "data": {
            "image/png": "[encoded data removed]",
            "text/plain": [
              "<matplotlib.figure.Figure at 0x7f042db59080>"
            ]
          },
          "metadata": {
            "tags": []
          }
        }
      ]
    },
    {
      "metadata": {
        "id": "5J4_MKGzML6f",
        "colab_type": "code",
        "colab": {}
      },
      "cell_type": "code",
      "source": [
        ""
      ],
      "execution_count": 0,
      "outputs": []
    }
  ]
}