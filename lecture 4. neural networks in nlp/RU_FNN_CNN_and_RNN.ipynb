{
  "nbformat": 4,
  "nbformat_minor": 0,
  "metadata": {
    "colab": {
      "name": "RU_FNN_CNN and RNN.ipynb",
      "version": "0.3.2",
      "provenance": [],
      "collapsed_sections": []
    },
    "kernelspec": {
      "name": "python3",
      "display_name": "Python 3"
    },
    "accelerator": "GPU"
  },
  "cells": [
    {
      "metadata": {
        "slideshow": {
          "slide_type": "slide"
        },
        "id": "SbEhxBcduvbs",
        "colab_type": "text"
      },
      "cell_type": "markdown",
      "source": [
        "# Классификация текстов"
      ]
    },
    {
      "metadata": {
        "id": "2tOQWUJeuy8z",
        "colab_type": "code",
        "colab": {}
      },
      "cell_type": "code",
      "source": [
        "!wget -O articles_lemmatized_noSW.csv \"https://uca8a647930017bafae1a971bcb5.dl.dropboxusercontent.com/cd/0/get/AVPAVw3QgxWgZdgwbwTceIUPEuyKIrDghLBhCCpq0m6l3W14JtFIRGYiD7SePlTQtRQgtokZJgk_RKKqFUjIwL4WA3Uz8SApdX06JYfPpvURekcz_Vl5omWiyrCNDYqzgu2rHuV7gHrU6e04WCsXWm_Zo1TwCbp7C25CWpEHP-QL8iAwwkvsKvGGvR-6o5DuoT2bLYUY8I5BTxMqF5yBoGyZ/file?_download_id=49814860698607033332646797212727695979727785552338405713668967967&_notify_domain=www.dropbox.com&dl=1\""
      ],
      "execution_count": 0,
      "outputs": []
    },
    {
      "metadata": {
        "id": "zmmvfYNLwIma",
        "colab_type": "code",
        "colab": {}
      },
      "cell_type": "code",
      "source": [
        "!wget -O ru.tar.gz \"https://www.dropbox.com/s/0x7oxso6x93efzj/ru.tar.gz?dl=1\""
      ],
      "execution_count": 0,
      "outputs": []
    },
    {
      "metadata": {
        "id": "kx1MrSbx5iUV",
        "colab_type": "code",
        "colab": {}
      },
      "cell_type": "code",
      "source": [
        "!tar -xvzf ru.tar.gz"
      ],
      "execution_count": 0,
      "outputs": []
    },
    {
      "metadata": {
        "id": "RmsxiVrk5nZc",
        "colab_type": "code",
        "colab": {}
      },
      "cell_type": "code",
      "source": [
        "!ls"
      ],
      "execution_count": 0,
      "outputs": []
    },
    {
      "metadata": {
        "id": "OXSjiRDgro_F",
        "colab_type": "text"
      },
      "cell_type": "markdown",
      "source": [
        "## Предобработка"
      ]
    },
    {
      "metadata": {
        "slideshow": {
          "slide_type": "slide"
        },
        "id": "jy8LmW2xuvbv",
        "colab_type": "code",
        "colab": {}
      },
      "cell_type": "code",
      "source": [
        "from keras.preprocessing.text import Tokenizer\n",
        "from keras.preprocessing.sequence import pad_sequences\n",
        "from keras.utils import np_utils\n",
        "from sklearn.preprocessing import LabelBinarizer, LabelEncoder\n",
        "from keras.optimizers import Adam\n",
        "\n",
        "from keras.layers import Embedding, Input, Conv1D, MaxPooling1D, Flatten, Dense, Dropout\n",
        "from keras.models import Model, Sequential\n",
        "\n",
        "import pandas as pd\n",
        "import numpy as np\n",
        "\n",
        "import seaborn as sns\n",
        "\n",
        "import matplotlib.pyplot as plt\n",
        "\n",
        "from sklearn.metrics import precision_score, recall_score, accuracy_score, classification_report, confusion_matrix\n",
        "\n",
        "%matplotlib inline"
      ],
      "execution_count": 0,
      "outputs": []
    },
    {
      "metadata": {
        "id": "usg6WB8ePl_0",
        "colab_type": "code",
        "colab": {}
      },
      "cell_type": "code",
      "source": [
        "from numpy.random import seed\n",
        "seed(1)\n",
        "from tensorflow import set_random_seed\n",
        "set_random_seed(2)\n",
        "import random\n",
        "random.seed(3)\n",
        "import tensorflow as tf\n",
        "session_conf = tf.ConfigProto(intra_op_parallelism_threads=1,\n",
        "                              inter_op_parallelism_threads=1)\n",
        "\n",
        "from keras import backend as K\n",
        "\n",
        "tf.set_random_seed(1234)\n",
        "\n",
        "sess = tf.Session(graph=tf.get_default_graph(), config=session_conf)\n",
        "K.set_session(sess)\n"
      ],
      "execution_count": 0,
      "outputs": []
    },
    {
      "metadata": {
        "slideshow": {
          "slide_type": "subslide"
        },
        "id": "Vi53ZU95uvb3",
        "colab_type": "code",
        "colab": {}
      },
      "cell_type": "code",
      "source": [
        "data = pd.read_csv(\"articles_lemmatized_noSW.csv\", index_col=\"Unnamed: 0\")\n",
        "data = data[data.topic.isin((\"Культура\", \"Общество\", \"Политика\", \"Экономика\", \"Спорт\"))] \n",
        "train_corpus = pd.DataFrame(columns=data.columns)\n",
        "test_corpus = pd.DataFrame(columns=data.columns)\n",
        "\n",
        "for topic in data.topic.unique():\n",
        "    corpus_sample = data[data.topic==topic].sample(110)\n",
        "    train_corpus = train_corpus.append(corpus_sample.iloc[:100, :])\n",
        "    test_corpus = test_corpus.append(corpus_sample.iloc[100:, :])"
      ],
      "execution_count": 0,
      "outputs": []
    },
    {
      "metadata": {
        "id": "WgQ_wpX7uvb7",
        "colab_type": "code",
        "colab": {}
      },
      "cell_type": "code",
      "source": [
        "data.head()"
      ],
      "execution_count": 0,
      "outputs": []
    },
    {
      "metadata": {
        "slideshow": {
          "slide_type": "slide"
        },
        "id": "cOjxHH58uvcA",
        "colab_type": "code",
        "colab": {}
      },
      "cell_type": "code",
      "source": [
        "TEXT_LENGTH = 1800\n",
        "VOCABULARY_SIZE = 250000\n",
        "EMBEDDING_DIM = 100\n",
        "DIMS = 250\n",
        "MAX_FEATURES = 5000\n",
        "batch_size = 32\n",
        "\n",
        "nb_filter = 250\n",
        "filter_length = 3\n",
        "hidden_dims = 250\n",
        "nb_epoch = 10"
      ],
      "execution_count": 0,
      "outputs": []
    },
    {
      "metadata": {
        "slideshow": {
          "slide_type": "slide"
        },
        "id": "dPgsG-d2uvcE",
        "colab_type": "text"
      },
      "cell_type": "markdown",
      "source": [
        "## Сеть прямого распространения"
      ]
    },
    {
      "metadata": {
        "slideshow": {
          "slide_type": "subslide"
        },
        "id": "rlLNBUg7uvcF",
        "colab_type": "code",
        "colab": {}
      },
      "cell_type": "code",
      "source": [
        "tokenizer = Tokenizer(num_words=MAX_FEATURES)\n",
        "tokenizer.fit_on_texts(train_corpus.body)\n",
        "tokenizer"
      ],
      "execution_count": 0,
      "outputs": []
    },
    {
      "metadata": {
        "id": "qLSkn7RJyE_l",
        "colab_type": "text"
      },
      "cell_type": "markdown",
      "source": [
        "#### Представим последовательность в виде вектора длины vocab_size, где на каждой позиции i стоит количество слова под номером i в данной последовательности."
      ]
    },
    {
      "metadata": {
        "slideshow": {
          "slide_type": "subslide"
        },
        "id": "htGpo2-fuvcK",
        "colab_type": "code",
        "colab": {}
      },
      "cell_type": "code",
      "source": [
        "sequences = tokenizer.texts_to_sequences(train_corpus.body)\n",
        "X_train = tokenizer.sequences_to_matrix(sequences, mode='count')\n",
        "sequences = tokenizer.texts_to_sequences(test_corpus.body)\n",
        "X_test = tokenizer.sequences_to_matrix(sequences, mode='count')"
      ],
      "execution_count": 0,
      "outputs": []
    },
    {
      "metadata": {
        "slideshow": {
          "slide_type": "subslide"
        },
        "id": "6DRkttdWuvcN",
        "colab_type": "code",
        "colab": {}
      },
      "cell_type": "code",
      "source": [
        "print('First seq:', sequences[0])\n",
        "print('First doc:',X_train[0])"
      ],
      "execution_count": 0,
      "outputs": []
    },
    {
      "metadata": {
        "slideshow": {
          "slide_type": "subslide"
        },
        "id": "YTaIu9UwuvcS",
        "colab_type": "code",
        "colab": {}
      },
      "cell_type": "code",
      "source": [
        "le = LabelEncoder()\n",
        "le.fit(train_corpus.topic.unique())\n",
        "y_train = np_utils.to_categorical(le.transform(train_corpus.topic), 5)\n",
        "y_test = np_utils.to_categorical(le.transform(test_corpus.topic), 5)\n",
        "y_true = le.transform(test_corpus.topic)\n",
        "print(y_train[0])"
      ],
      "execution_count": 0,
      "outputs": []
    },
    {
      "metadata": {
        "id": "Ad0pKfyNt2ya",
        "colab_type": "text"
      },
      "cell_type": "markdown",
      "source": [
        "#### создайте архитектуру полносвязной нейронной сети"
      ]
    },
    {
      "metadata": {
        "slideshow": {
          "slide_type": "subslide"
        },
        "id": "JKJCdwlpuvcX",
        "colab_type": "code",
        "colab": {}
      },
      "cell_type": "code",
      "source": [
        "model = Sequential()\n",
        "\n",
        "<your code here>\n",
        "\n",
        "model.add(Dense(5, activation = 'softmax'))\n",
        "model.compile(loss='categorical_crossentropy', optimizer=Adam(0.0005, 0.8, 0.99), metrics=['accuracy'])\n",
        "model.summary()"
      ],
      "execution_count": 0,
      "outputs": []
    },
    {
      "metadata": {
        "slideshow": {
          "slide_type": "subslide"
        },
        "id": "Uj0CkZtVuvcc",
        "colab_type": "code",
        "colab": {}
      },
      "cell_type": "code",
      "source": [
        "model.fit(X_train, y_train, epochs=nb_epoch, batch_size=batch_size,  validation_split=0.1)"
      ],
      "execution_count": 0,
      "outputs": []
    },
    {
      "metadata": {
        "slideshow": {
          "slide_type": "subslide"
        },
        "id": "-Fx4S-BVuvcg",
        "colab_type": "code",
        "colab": {}
      },
      "cell_type": "code",
      "source": [
        "y_pred = model.predict_classes(X_test)\n",
        "print(classification_report(y_true, y_pred))\n",
        "labels = test_corpus.topic.unique()\n",
        "y_true = le.inverse_transform(y_true)\n",
        "y_pred = le.inverse_transform(y_pred)\n",
        "sns.heatmap(data=confusion_matrix(y_true, y_pred, labels = labels), annot=True, fmt=\"d\", cbar=False, xticklabels=labels, yticklabels=labels)\n",
        "plt.title(\"Confusion matrix\")\n",
        "plt.show()"
      ],
      "execution_count": 0,
      "outputs": []
    },
    {
      "metadata": {
        "id": "2k8gPypsyi5B",
        "colab_type": "text"
      },
      "cell_type": "markdown",
      "source": [
        "#### Сопоставим каждому слову его эмбеддинг, который будем обучать."
      ]
    },
    {
      "metadata": {
        "slideshow": {
          "slide_type": "subslide"
        },
        "id": "2P-MpuN7uvcn",
        "colab_type": "code",
        "colab": {}
      },
      "cell_type": "code",
      "source": [
        "sequences = tokenizer.texts_to_sequences(train_corpus.body)\n",
        "X_train = pad_sequences(sequences, maxlen=TEXT_LENGTH)\n",
        "sequences = tokenizer.texts_to_sequences(test_corpus.body)\n",
        "X_test = pad_sequences(sequences, maxlen=TEXT_LENGTH)"
      ],
      "execution_count": 0,
      "outputs": []
    },
    {
      "metadata": {
        "slideshow": {
          "slide_type": "subslide"
        },
        "id": "dCsFoyN3uvcs",
        "colab_type": "code",
        "colab": {}
      },
      "cell_type": "code",
      "source": [
        "X_train[0]"
      ],
      "execution_count": 0,
      "outputs": []
    },
    {
      "metadata": {
        "id": "s85e5NGw29R4",
        "colab_type": "code",
        "colab": {}
      },
      "cell_type": "code",
      "source": [
        "from keras.optimizers import Adam"
      ],
      "execution_count": 0,
      "outputs": []
    },
    {
      "metadata": {
        "id": "LPvUeYevtzE3",
        "colab_type": "text"
      },
      "cell_type": "markdown",
      "source": [
        "#### создайте архитектуру сети со слоем эмбеддингов"
      ]
    },
    {
      "metadata": {
        "collapsed": true,
        "slideshow": {
          "slide_type": "subslide"
        },
        "id": "bDqMDkViuvcz",
        "colab_type": "code",
        "colab": {}
      },
      "cell_type": "code",
      "source": [
        "model = Sequential()\n",
        "\n",
        "<your code here>\n",
        "\n",
        "model.add(Dense(5, activation = 'softmax'))\n",
        "model.compile(loss='categorical_crossentropy', optimizer=Adam(0.0005, 0.8, 0.99), metrics=['accuracy'])\n",
        "model.summary()"
      ],
      "execution_count": 0,
      "outputs": []
    },
    {
      "metadata": {
        "id": "yIsfO1VSzc1M",
        "colab_type": "code",
        "colab": {}
      },
      "cell_type": "code",
      "source": [
        "try:\n",
        "  model.fit(X_train, y_train, epochs=50, batch_size=batch_size,  validation_split=0.1)\n",
        "except KeyboardInterrupt:\n",
        "  print(\"Interrupted...\")"
      ],
      "execution_count": 0,
      "outputs": []
    },
    {
      "metadata": {
        "slideshow": {
          "slide_type": "subslide"
        },
        "id": "bRaU-tJ-uvc5",
        "colab_type": "code",
        "colab": {}
      },
      "cell_type": "code",
      "source": [
        "y_pred = model.predict_classes(X_test)\n",
        "y_pred = le.inverse_transform(y_pred)"
      ],
      "execution_count": 0,
      "outputs": []
    },
    {
      "metadata": {
        "id": "l8k_bOQtuvc_",
        "colab_type": "code",
        "colab": {}
      },
      "cell_type": "code",
      "source": [
        "print(classification_report(y_true, y_pred))\n",
        "sns.heatmap(data=confusion_matrix(y_true, y_pred, labels = labels), annot=True, fmt=\"d\", cbar=False, xticklabels=labels, yticklabels=labels)\n",
        "plt.title(\"Confusion matrix\")\n",
        "plt.show()"
      ],
      "execution_count": 0,
      "outputs": []
    },
    {
      "metadata": {
        "id": "7QreWqtz5Y6U",
        "colab_type": "text"
      },
      "cell_type": "markdown",
      "source": [
        "#### Используем предобученные эмбеддинги в качестве инициализации"
      ]
    },
    {
      "metadata": {
        "slideshow": {
          "slide_type": "subslide"
        },
        "id": "ZaLhcEgPuvdD",
        "colab_type": "code",
        "colab": {}
      },
      "cell_type": "code",
      "source": [
        "%%time\n",
        "\n",
        "import numpy as np\n",
        "emb_path = 'ru.vec'\n",
        "\n",
        "words = []\n",
        "\n",
        "embeddings_index = {}\n",
        "f = open(emb_path)\n",
        "for line in f:\n",
        "    values = line.split()\n",
        "    if len(values) == 301:\n",
        "        word = values[0]\n",
        "        words.append(word)\n",
        "        coefs = np.asarray(values[1:], dtype='float32')\n",
        "        embeddings_index[word] = coefs\n",
        "f.close()"
      ],
      "execution_count": 0,
      "outputs": []
    },
    {
      "metadata": {
        "id": "bk_dnzsQuvdH",
        "colab_type": "code",
        "colab": {}
      },
      "cell_type": "code",
      "source": [
        "print(len(embeddings_index))"
      ],
      "execution_count": 0,
      "outputs": []
    },
    {
      "metadata": {
        "id": "QujauhPouvdO",
        "colab_type": "code",
        "colab": {}
      },
      "cell_type": "code",
      "source": [
        "word_index = tokenizer.word_index\n",
        "len(word_index)"
      ],
      "execution_count": 0,
      "outputs": []
    },
    {
      "metadata": {
        "id": "Zgd3skkBuvdR",
        "colab_type": "code",
        "colab": {}
      },
      "cell_type": "code",
      "source": [
        "embedding_matrix = np.zeros((len(word_index) + 1, 300))\n",
        "for word, i in word_index.items():\n",
        "    embedding_vector = embeddings_index.get(word)\n",
        "    if embedding_vector is not None:\n",
        "        # words not found in embedding index will be all-zeros.\n",
        "        embedding_matrix[i] = embedding_vector"
      ],
      "execution_count": 0,
      "outputs": []
    },
    {
      "metadata": {
        "id": "mi9y1B74ttrR",
        "colab_type": "text"
      },
      "cell_type": "markdown",
      "source": [
        "#### создайте архитектуру сети со слоем предобученых эмбеддингов"
      ]
    },
    {
      "metadata": {
        "id": "YCnY4Tu3uvdU",
        "colab_type": "code",
        "colab": {}
      },
      "cell_type": "code",
      "source": [
        "model = Sequential()\n",
        "\n",
        "<your code here>\n",
        "\n",
        "model.add(Dense(5, activation = 'softmax'))\n",
        "model.compile(loss='categorical_crossentropy', optimizer=Adam(0.0005, 0.8, 0.99), metrics=['accuracy'])\n",
        "model.summary()"
      ],
      "execution_count": 0,
      "outputs": []
    },
    {
      "metadata": {
        "id": "_dYVXxv-62p-",
        "colab_type": "code",
        "colab": {}
      },
      "cell_type": "code",
      "source": [
        "model.fit(X_train, y_train, epochs=30, batch_size=batch_size,  validation_split=0.1)"
      ],
      "execution_count": 0,
      "outputs": []
    },
    {
      "metadata": {
        "id": "B0OIqO25uvdZ",
        "colab_type": "code",
        "colab": {}
      },
      "cell_type": "code",
      "source": [
        "y_pred = model.predict_classes(X_test)\n",
        "y_pred = le.inverse_transform(y_pred)"
      ],
      "execution_count": 0,
      "outputs": []
    },
    {
      "metadata": {
        "slideshow": {
          "slide_type": "subslide"
        },
        "id": "9dx7Ezezuvdd",
        "colab_type": "code",
        "colab": {}
      },
      "cell_type": "code",
      "source": [
        "print(classification_report(y_true, y_pred))\n",
        "sns.heatmap(data=confusion_matrix(y_true, y_pred, labels = labels), annot=True, fmt=\"d\", cbar=False, xticklabels=labels, yticklabels=labels)\n",
        "plt.title(\"Confusion matrix\")\n",
        "plt.show()"
      ],
      "execution_count": 0,
      "outputs": []
    },
    {
      "metadata": {
        "slideshow": {
          "slide_type": "slide"
        },
        "id": "lT4fg-amuvdh",
        "colab_type": "text"
      },
      "cell_type": "markdown",
      "source": [
        "## Сверточные нейронные сети [Convolutional neural networks, CNN]\n",
        "\n",
        "* Заимствованы из области компьютерного зрения\n",
        "* Пик популярности пришелся на 2014 (до +10% аккуратности в задачах классификации), со временем были вытеснены рекуррентными нейронными сетями \n",
        "* Помогают справится  с проблемой переменной длины входов (CNN VS window-based NN)"
      ]
    },
    {
      "metadata": {
        "id": "DZF6dstmGbsx",
        "colab_type": "code",
        "colab": {}
      },
      "cell_type": "code",
      "source": [
        "from keras.optimizers import Adam"
      ],
      "execution_count": 0,
      "outputs": []
    },
    {
      "metadata": {
        "slideshow": {
          "slide_type": "slide"
        },
        "id": "xSVwn8Qhuvdj",
        "colab_type": "code",
        "colab": {}
      },
      "cell_type": "code",
      "source": [
        "model = Sequential()\n",
        "model.add(Embedding(len(word_index) + 1,\n",
        "                    300,\n",
        "                    input_length=TEXT_LENGTH,\n",
        "                    weights=[embedding_matrix],\n",
        "                    trainable=False))"
      ],
      "execution_count": 0,
      "outputs": []
    },
    {
      "metadata": {
        "id": "LIVO8ef6uD-3",
        "colab_type": "text"
      },
      "cell_type": "markdown",
      "source": [
        "#### Добавьте к модели сверточный слой и пулинг"
      ]
    },
    {
      "metadata": {
        "id": "xQqCeA3fuO5_",
        "colab_type": "code",
        "colab": {}
      },
      "cell_type": "code",
      "source": [
        "<your code here>\n",
        "\n",
        "model.add(Dense(5, activation = 'softmax'))\n",
        "model.compile(loss='categorical_crossentropy', optimizer=Adam(0.0005, 0.8, 0.99), metrics=['accuracy'])\n",
        "model.summary()"
      ],
      "execution_count": 0,
      "outputs": []
    },
    {
      "metadata": {
        "id": "3eexwv2U8joO",
        "colab_type": "code",
        "colab": {}
      },
      "cell_type": "code",
      "source": [
        "model.fit(X_train, y_train, epochs=50, batch_size=batch_size,  validation_split=0.1)"
      ],
      "execution_count": 0,
      "outputs": []
    },
    {
      "metadata": {
        "slideshow": {
          "slide_type": "subslide"
        },
        "id": "qxxcffU8uvdn",
        "colab_type": "code",
        "colab": {}
      },
      "cell_type": "code",
      "source": [
        "y_pred = model.predict_classes(X_test)\n",
        "y_pred = le.inverse_transform(y_pred)\n",
        "# y_true = le.inverse_transform(y_true)"
      ],
      "execution_count": 0,
      "outputs": []
    },
    {
      "metadata": {
        "id": "jrlM8nRwuvdt",
        "colab_type": "code",
        "colab": {}
      },
      "cell_type": "code",
      "source": [
        "model.evaluate(X_test, y_test)"
      ],
      "execution_count": 0,
      "outputs": []
    },
    {
      "metadata": {
        "slideshow": {
          "slide_type": "slide"
        },
        "id": "t0x_Kw3Huvdy",
        "colab_type": "code",
        "colab": {}
      },
      "cell_type": "code",
      "source": [
        "print(classification_report(y_true, y_pred))\n",
        "labels = test_corpus.topic.unique()\n",
        "sns.heatmap(data=confusion_matrix(y_true, y_pred, labels = labels), annot=True, fmt=\"d\", cbar=False, xticklabels=labels, yticklabels=labels)\n",
        "plt.title(\"Confusion matrix\")\n",
        "plt.show()"
      ],
      "execution_count": 0,
      "outputs": []
    },
    {
      "metadata": {
        "id": "J8o_eQhzJUeC",
        "colab_type": "text"
      },
      "cell_type": "markdown",
      "source": [
        "### Усложним модель"
      ]
    },
    {
      "metadata": {
        "id": "a7mEGMA3BSRs",
        "colab_type": "code",
        "colab": {}
      },
      "cell_type": "code",
      "source": [
        "from keras.models import Model\n",
        "from keras.layers import Input, Concatenate\n",
        "from keras.layers.normalization import BatchNormalization\n",
        "\n",
        "num_filters = 32\n",
        "filter_sizes = [2, 3, 4, 5]"
      ],
      "execution_count": 0,
      "outputs": []
    },
    {
      "metadata": {
        "id": "IZrJWA_3u-vm",
        "colab_type": "text"
      },
      "cell_type": "markdown",
      "source": [
        "#### Реализуйте функцию ниже, она должна содержать сверточный слой и слой пулинга"
      ]
    },
    {
      "metadata": {
        "id": "cmJBwRZ1UFSf",
        "colab_type": "code",
        "colab": {}
      },
      "cell_type": "code",
      "source": [
        "def conv_block(out, flatten=False):\n",
        "  <your code>\n",
        "  if flatten:\n",
        "    conv = Flatten()(conv)\n",
        "  return conv"
      ],
      "execution_count": 0,
      "outputs": []
    },
    {
      "metadata": {
        "id": "Gnquoc8LvaKy",
        "colab_type": "text"
      },
      "cell_type": "markdown",
      "source": [
        "#### Сделайте несколько сверток с разным размером фильтра и объедините их"
      ]
    },
    {
      "metadata": {
        "id": "FjXjgw_O_onF",
        "colab_type": "code",
        "colab": {}
      },
      "cell_type": "code",
      "source": [
        "model_input = Input(shape=(TEXT_LENGTH, ))\n",
        "out = Embedding(len(word_index) + 1,\n",
        "                300,\n",
        "                weights=[embedding_matrix],\n",
        "                trainable=False)(model_input)\n",
        "conv_blocks = []\n",
        "\n",
        "<your code here>\n",
        "\n",
        "out = BatchNormalization()(out)\n",
        "out = Dropout(0.6)(out)\n",
        "model_output = Dense(5, activation=\"sigmoid\")(out)\n",
        "\n",
        "model = Model(model_input, model_output)\n",
        "\n",
        "\n",
        "model.compile(loss='categorical_crossentropy', optimizer=Adam(0.0005, 0.8, 0.99), metrics=['accuracy'])\n",
        "model.summary()"
      ],
      "execution_count": 0,
      "outputs": []
    },
    {
      "metadata": {
        "id": "LJk8ub9BDO0S",
        "colab_type": "code",
        "colab": {}
      },
      "cell_type": "code",
      "source": [
        "model.fit(X_train, y_train, epochs=50, batch_size=16,  validation_split=0.1)"
      ],
      "execution_count": 0,
      "outputs": []
    },
    {
      "metadata": {
        "id": "XNWKZ3LeK6CU",
        "colab_type": "code",
        "colab": {}
      },
      "cell_type": "code",
      "source": [
        "y_pred = model.predict(X_test)\n",
        "y_pred = le.inverse_transform(y_pred.argmax(-1))\n",
        "# y_true = le.inverse_transform(y_true)"
      ],
      "execution_count": 0,
      "outputs": []
    },
    {
      "metadata": {
        "id": "x1ATkI_MK6NY",
        "colab_type": "code",
        "colab": {}
      },
      "cell_type": "code",
      "source": [
        "print(classification_report(y_true, y_pred))\n",
        "labels = test_corpus.topic.unique()\n",
        "sns.heatmap(data=confusion_matrix(y_true, y_pred, labels = labels), annot=True, fmt=\"d\", cbar=False, xticklabels=labels, yticklabels=labels)\n",
        "plt.title(\"Confusion matrix\")\n",
        "plt.show()"
      ],
      "execution_count": 0,
      "outputs": []
    },
    {
      "metadata": {
        "id": "UrqjkXB5KFcx",
        "colab_type": "text"
      },
      "cell_type": "markdown",
      "source": [
        "## Рекуррентные нейронные сети"
      ]
    },
    {
      "metadata": {
        "id": "h_bFga3hvzBP",
        "colab_type": "text"
      },
      "cell_type": "markdown",
      "source": [
        "#### Реализуйте рекуррентную сеть с одним рекуррентным слоем"
      ]
    },
    {
      "metadata": {
        "id": "TIyZxTZXKF13",
        "colab_type": "code",
        "colab": {}
      },
      "cell_type": "code",
      "source": [
        "from keras.layers import Activation, LSTM, GRU\n",
        "\n",
        "\n",
        "model = Sequential()\n",
        "\n",
        "<your code here>\n",
        "\n",
        "model.add(Dense(5))\n",
        "model.add(Activation('sigmoid'))\n",
        "\n",
        "model.compile(loss='categorical_crossentropy',\n",
        "              optimizer=Adam(0.01, 0.8, 0.9),\n",
        "              metrics=['accuracy'])\n",
        "\n",
        "model.summary()"
      ],
      "execution_count": 0,
      "outputs": []
    },
    {
      "metadata": {
        "id": "eopPVpdoMFVU",
        "colab_type": "code",
        "colab": {}
      },
      "cell_type": "code",
      "source": [
        "hist_lstm = model.fit(X_train, y_train, epochs=100, batch_size=16,  validation_split=0.1)"
      ],
      "execution_count": 0,
      "outputs": []
    },
    {
      "metadata": {
        "id": "HIaiZUa0ZVz_",
        "colab_type": "code",
        "colab": {}
      },
      "cell_type": "code",
      "source": [
        "y_pred = model.predict_classes(X_test)\n",
        "y_pred = le.inverse_transform(y_pred)\n",
        "# y_true = le.inverse_transform(y_true)\n",
        "print(classification_report(y_true, y_pred))\n",
        "labels = test_corpus.topic.unique()\n",
        "sns.heatmap(data=confusion_matrix(y_true, y_pred, labels = labels), annot=True, fmt=\"d\", cbar=False, xticklabels=labels, yticklabels=labels)\n",
        "plt.title(\"Confusion matrix\")\n",
        "plt.show()"
      ],
      "execution_count": 0,
      "outputs": []
    },
    {
      "metadata": {
        "id": "HLo0SGJqZFe2",
        "colab_type": "text"
      },
      "cell_type": "markdown",
      "source": [
        "### Реализуйте BI-LSTM CNN"
      ]
    },
    {
      "metadata": {
        "id": "rst1xt8lNk_Q",
        "colab_type": "code",
        "colab": {}
      },
      "cell_type": "code",
      "source": [
        "from keras.layers import Activation, LSTM\n",
        "\n",
        "\n",
        "model = Sequential()\n",
        "\n",
        "<your code here>\n",
        "\n",
        "model.add(Dense(5))\n",
        "model.add(Activation('sigmoid'))\n",
        "\n",
        "model.compile(loss='binary_crossentropy',\n",
        "              optimizer=Adam(0.0005, 0.8, 0.9),\n",
        "              metrics=['accuracy'])\n",
        "\n",
        "model.summary()"
      ],
      "execution_count": 0,
      "outputs": []
    },
    {
      "metadata": {
        "id": "XhJ2tYr-bbVm",
        "colab_type": "code",
        "colab": {}
      },
      "cell_type": "code",
      "source": [
        "hist_lstm2 = model.fit(X_train, y_train, epochs=100, batch_size=16,  validation_split=0.1)"
      ],
      "execution_count": 0,
      "outputs": []
    },
    {
      "metadata": {
        "id": "HVshVVWkbdW-",
        "colab_type": "code",
        "colab": {}
      },
      "cell_type": "code",
      "source": [
        "y_pred = model.predict_classes(X_test)\n",
        "y_pred = le.inverse_transform(y_pred)\n",
        "# y_true = le.inverse_transform(y_true)\n",
        "print(classification_report(y_true, y_pred))\n",
        "labels = test_corpus.topic.unique()\n",
        "sns.heatmap(data=confusion_matrix(y_true, y_pred, labels = labels), annot=True, fmt=\"d\", cbar=False, xticklabels=labels, yticklabels=labels)\n",
        "plt.title(\"Confusion matrix\")\n",
        "plt.show()"
      ],
      "execution_count": 0,
      "outputs": []
    },
    {
      "metadata": {
        "id": "VlyeCn9CbfRU",
        "colab_type": "code",
        "colab": {}
      },
      "cell_type": "code",
      "source": [
        ""
      ],
      "execution_count": 0,
      "outputs": []
    }
  ]
}