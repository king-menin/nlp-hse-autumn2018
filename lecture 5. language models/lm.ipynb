{
  "nbformat": 4,
  "nbformat_minor": 0,
  "metadata": {
    "colab": {
      "name": "lm.ipynb",
      "version": "0.3.2",
      "provenance": [],
      "collapsed_sections": []
    },
    "kernelspec": {
      "name": "python3",
      "display_name": "Python 3"
    },
    "accelerator": "GPU"
  },
  "cells": [
    {
      "metadata": {
        "id": "swo9qsju1--P",
        "colab_type": "text"
      },
      "cell_type": "markdown",
      "source": [
        "# Генерация текста, count-based подход"
      ]
    },
    {
      "metadata": {
        "id": "m3XChv252NaX",
        "colab_type": "text"
      },
      "cell_type": "markdown",
      "source": [
        "скачиваем файлы"
      ]
    },
    {
      "metadata": {
        "id": "ntqNRmgF18Ha",
        "colab_type": "code",
        "colab": {
          "base_uri": "https://localhost:8080/",
          "height": 204
        },
        "outputId": "41701379-7f65-47c8-cdec-47070096ba24"
      },
      "cell_type": "code",
      "source": [
        "!wget https://raw.githubusercontent.com/king-menin/nlp-hse-autumn2018/master/lecture%205.%20language%20models/sonets.txt"
      ],
      "execution_count": 4,
      "outputs": [
        {
          "output_type": "stream",
          "text": [
            "--2018-11-15 13:55:04--  https://raw.githubusercontent.com/king-menin/nlp-hse-autumn2018/master/lecture%205.%20language%20models/sonets.txt\n",
            "Resolving raw.githubusercontent.com (raw.githubusercontent.com)... 151.101.0.133, 151.101.64.133, 151.101.128.133, ...\n",
            "Connecting to raw.githubusercontent.com (raw.githubusercontent.com)|151.101.0.133|:443... connected.\n",
            "HTTP request sent, awaiting response... 200 OK\n",
            "Length: 96531 (94K) [text/plain]\n",
            "Saving to: ‘sonets.txt’\n",
            "\n",
            "\rsonets.txt            0%[                    ]       0  --.-KB/s               \rsonets.txt          100%[===================>]  94.27K  --.-KB/s    in 0.05s   \n",
            "\n",
            "2018-11-15 13:55:04 (1.81 MB/s) - ‘sonets.txt’ saved [96531/96531]\n",
            "\n"
          ],
          "name": "stdout"
        }
      ]
    },
    {
      "metadata": {
        "id": "j7-5kO_w2HJw",
        "colab_type": "code",
        "colab": {
          "base_uri": "https://localhost:8080/",
          "height": 34
        },
        "outputId": "67a987e7-6893-4dca-ca06-9a234064c18b"
      },
      "cell_type": "code",
      "source": [
        "!ls"
      ],
      "execution_count": 5,
      "outputs": [
        {
          "output_type": "stream",
          "text": [
            "sample_data  sonets.txt\n"
          ],
          "name": "stdout"
        }
      ]
    },
    {
      "metadata": {
        "id": "IsGXteDE2S5E",
        "colab_type": "text"
      },
      "cell_type": "markdown",
      "source": [
        "### Предобработка"
      ]
    },
    {
      "metadata": {
        "id": "KSUw8CoY2JDC",
        "colab_type": "code",
        "colab": {}
      },
      "cell_type": "code",
      "source": [
        "data_path=\"sonets.txt\"\n",
        "\n",
        "\n",
        "with open(data_path, \"r\", encoding=\"utf-8\") as f:\n",
        "  data = f.read()"
      ],
      "execution_count": 0,
      "outputs": []
    },
    {
      "metadata": {
        "id": "aDaQYiuN23I9",
        "colab_type": "text"
      },
      "cell_type": "markdown",
      "source": [
        "#### Удалите все строчки, которые начинаются с Sonnet X. Вставьте в конце каждой части. "
      ]
    },
    {
      "metadata": {
        "id": "p80hGKL12f-x",
        "colab_type": "code",
        "colab": {}
      },
      "cell_type": "code",
      "source": [
        "def prc(data, delim=\"E\\n\"):\n",
        "  res = []\n",
        "  data = data.lower().strip()\n",
        "  for line in data.split(\"\\n\"):\n",
        "    if not line.startswith(\"sonnet\"):\n",
        "      if len(line):\n",
        "        res.append(line + \"\\n\")\n",
        "      elif len(res):\n",
        "        if res[-1] != delim:\n",
        "          res.append(delim)\n",
        "  res = \"\".join(res)\n",
        "  return res, res.split(delim)"
      ],
      "execution_count": 0,
      "outputs": []
    },
    {
      "metadata": {
        "id": "KQoC5rBT2g0M",
        "colab_type": "code",
        "colab": {}
      },
      "cell_type": "code",
      "source": [
        "text, sonets = prc(data)"
      ],
      "execution_count": 0,
      "outputs": []
    },
    {
      "metadata": {
        "id": "GGsJwQUg9gIY",
        "colab_type": "code",
        "colab": {
          "base_uri": "https://localhost:8080/",
          "height": 272
        },
        "outputId": "62a2d253-f033-4f87-f46e-3c3d1ab05540"
      },
      "cell_type": "code",
      "source": [
        "print(sonets[0])"
      ],
      "execution_count": 9,
      "outputs": [
        {
          "output_type": "stream",
          "text": [
            "from fairest creatures we desire increase,\n",
            "that thereby beauty's rose might never die,\n",
            "but as the riper should by time decease,\n",
            "his tender heir might bear his memory:\n",
            "but thou, contracted to thine own bright eyes,\n",
            "feed'st thy light'st flame with self-substantial fuel,\n",
            "making a famine where abundance lies,\n",
            "thyself thy foe, to thy sweet self too cruel.\n",
            "thou that art now the world's fresh ornament\n",
            "and only herald to the gaudy spring,\n",
            "within thine own bud buriest thy content\n",
            "and, tender churl, makest waste in niggarding.\n",
            "pity the world, or else this glutton be,\n",
            "to eat the world's due, by the grave and thee.\n",
            "\n"
          ],
          "name": "stdout"
        }
      ]
    },
    {
      "metadata": {
        "id": "keQQPOWH56u7",
        "colab_type": "code",
        "colab": {
          "base_uri": "https://localhost:8080/",
          "height": 255
        },
        "outputId": "9b8ac8b1-6c05-4ee0-b3c0-e2576a503cc2"
      },
      "cell_type": "code",
      "source": [
        "print(text[:610])"
      ],
      "execution_count": 131,
      "outputs": [
        {
          "output_type": "stream",
          "text": [
            "from fairest creatures we desire increase,\n",
            "that thereby beauty's rose might never die,\n",
            "but as the riper should by time decease,\n",
            "his tender heir might bear his memory:\n",
            "but thou, contracted to thine own bright eyes,\n",
            "feed'st thy light'st flame with self-substantial fuel,\n",
            "making a famine where abundance lies,\n",
            "thyself thy foe, to thy sweet self too cruel.\n",
            "thou that art now the world's fresh ornament\n",
            "and only herald to the gaudy spring,\n",
            "within thine own bud buriest thy content\n",
            "and, tender churl, makest waste in niggarding.\n",
            "pity the world, or else this glutton be,\n",
            "to eat the world's due, by the grave and thee.\n"
          ],
          "name": "stdout"
        }
      ]
    },
    {
      "metadata": {
        "id": "ZCWDDyWI7crE",
        "colab_type": "text"
      },
      "cell_type": "markdown",
      "source": [
        "# Модели биграм в NLTK"
      ]
    },
    {
      "metadata": {
        "id": "U5kv6jJH6BST",
        "colab_type": "code",
        "colab": {}
      },
      "cell_type": "code",
      "source": [
        "import nltk"
      ],
      "execution_count": 0,
      "outputs": []
    },
    {
      "metadata": {
        "id": "9jqeYLxp7oMD",
        "colab_type": "code",
        "colab": {}
      },
      "cell_type": "code",
      "source": [
        "freq = nltk.FreqDist(text)\n",
        "cfreq = nltk.ConditionalFreqDist(nltk.bigrams(text))"
      ],
      "execution_count": 0,
      "outputs": []
    },
    {
      "metadata": {
        "id": "wAYJnFic7sh4",
        "colab_type": "code",
        "colab": {
          "base_uri": "https://localhost:8080/",
          "height": 459
        },
        "outputId": "020f504b-b0bb-4aef-e58e-331ae2d72fc2"
      },
      "cell_type": "code",
      "source": [
        "cfreq['a']"
      ],
      "execution_count": 12,
      "outputs": [
        {
          "output_type": "execute_result",
          "data": {
            "text/plain": [
              "FreqDist({' ': 168,\n",
              "          \"'\": 1,\n",
              "          ',': 4,\n",
              "          '-': 1,\n",
              "          'b': 48,\n",
              "          'c': 177,\n",
              "          'd': 168,\n",
              "          'f': 27,\n",
              "          'g': 88,\n",
              "          'h': 7,\n",
              "          'i': 291,\n",
              "          'j': 2,\n",
              "          'k': 136,\n",
              "          'l': 402,\n",
              "          'm': 135,\n",
              "          'n': 952,\n",
              "          'o': 1,\n",
              "          'p': 66,\n",
              "          'r': 607,\n",
              "          's': 387,\n",
              "          't': 710,\n",
              "          'u': 127,\n",
              "          'v': 185,\n",
              "          'w': 42,\n",
              "          'y': 214,\n",
              "          'z': 13})"
            ]
          },
          "metadata": {
            "tags": []
          },
          "execution_count": 12
        }
      ]
    },
    {
      "metadata": {
        "id": "SMVEfk0e78DC",
        "colab_type": "text"
      },
      "cell_type": "markdown",
      "source": [
        "Получим вероятности биграм"
      ]
    },
    {
      "metadata": {
        "id": "CLXWyser7vMI",
        "colab_type": "code",
        "colab": {
          "base_uri": "https://localhost:8080/",
          "height": 68
        },
        "outputId": "54c15444-8d47-485e-d07c-d90f06966679"
      },
      "cell_type": "code",
      "source": [
        "cprob = nltk.ConditionalProbDist(cfreq, nltk.MLEProbDist)\n",
        "print('p(aa) = %1.4f' %cprob['a'].prob('a'))\n",
        "print('p(ab) = %1.4f' %cprob['a'].prob('b'))\n",
        "print('p(au) = %1.4f' %cprob['a'].prob('u'))"
      ],
      "execution_count": 13,
      "outputs": [
        {
          "output_type": "stream",
          "text": [
            "p(aa) = 0.0000\n",
            "p(ab) = 0.0097\n",
            "p(au) = 0.0256\n"
          ],
          "name": "stdout"
        }
      ]
    },
    {
      "metadata": {
        "id": "GHAjwOK7755y",
        "colab_type": "code",
        "colab": {
          "base_uri": "https://localhost:8080/",
          "height": 34
        },
        "outputId": "957b7621-fad0-437f-8b67-5f7501af4207"
      },
      "cell_type": "code",
      "source": [
        "import numpy as np\n",
        "\n",
        "eps = 0.000001\n",
        "np.log(cprob['a'].prob('a')+eps) + np.log(cprob['a'].prob('b')+eps) + np.log(cprob['a'].prob('c')+eps)"
      ],
      "execution_count": 14,
      "outputs": [
        {
          "output_type": "execute_result",
          "data": {
            "text/plain": [
              "-21.785947263740503"
            ]
          },
          "metadata": {
            "tags": []
          },
          "execution_count": 14
        }
      ]
    },
    {
      "metadata": {
        "id": "ZSv4CKsM9uoz",
        "colab_type": "code",
        "colab": {
          "base_uri": "https://localhost:8080/",
          "height": 34
        },
        "outputId": "177d61dd-9242-4787-a546-8491df1b6260"
      },
      "cell_type": "code",
      "source": [
        "l = sum([freq[char] for char in freq])\n",
        "def unigram_prob(char):\n",
        "    return freq[char] / l\n",
        "print('p(f) = %1.4f' %unigram_prob('f'))"
      ],
      "execution_count": 15,
      "outputs": [
        {
          "output_type": "stream",
          "text": [
            "p(f) = 0.0178\n"
          ],
          "name": "stdout"
        }
      ]
    },
    {
      "metadata": {
        "id": "XLHBxU9N9Ki_",
        "colab_type": "text"
      },
      "cell_type": "markdown",
      "source": [
        "## Задание 1\n",
        "Напишите функцию для оценки вероятности сонета.\n",
        "\n",
        "Найдите наиболее вероятный сонет."
      ]
    },
    {
      "metadata": {
        "id": "Q4rPqBJS8yZF",
        "colab_type": "code",
        "colab": {
          "base_uri": "https://localhost:8080/",
          "height": 34
        },
        "outputId": "94065423-d279-469d-b79c-6308196507a4"
      },
      "cell_type": "code",
      "source": [
        "cprob[\"a\"].generate()"
      ],
      "execution_count": 16,
      "outputs": [
        {
          "output_type": "execute_result",
          "data": {
            "text/plain": [
              "'n'"
            ]
          },
          "metadata": {
            "tags": []
          },
          "execution_count": 16
        }
      ]
    },
    {
      "metadata": {
        "id": "V_2X_vxr_a8n",
        "colab_type": "code",
        "colab": {}
      },
      "cell_type": "code",
      "source": [
        "seq_len = 100"
      ],
      "execution_count": 0,
      "outputs": []
    },
    {
      "metadata": {
        "id": "nvDJLIJjkkY6",
        "colab_type": "text"
      },
      "cell_type": "markdown",
      "source": [
        "#### Напишите функцию для оценки вероятности сонета."
      ]
    },
    {
      "metadata": {
        "id": "CDmaZdW89pFy",
        "colab_type": "code",
        "colab": {
          "base_uri": "https://localhost:8080/",
          "height": 34
        },
        "outputId": "29d85dce-1a8e-4fa2-fec9-09cef8972a71"
      },
      "cell_type": "code",
      "source": [
        "# решение 1.1\n",
        "def sonet_prob(sonet):\n",
        "    p = unigram_prob(sonet[0])\n",
        "    for i in range(len(sonet)-1):      \n",
        "      p *= cprob[sonet[i]].prob(sonet[i+1])\n",
        "    return p\n",
        "\n",
        "sonet_prob(sonets[0][:seq_len])"
      ],
      "execution_count": 18,
      "outputs": [
        {
          "output_type": "execute_result",
          "data": {
            "text/plain": [
              "6.677428217395542e-101"
            ]
          },
          "metadata": {
            "tags": []
          },
          "execution_count": 18
        }
      ]
    },
    {
      "metadata": {
        "id": "p0rVVwrc95Hl",
        "colab_type": "code",
        "colab": {
          "base_uri": "https://localhost:8080/",
          "height": 272
        },
        "outputId": "5f8137f4-3de5-41f8-a813-ff32d0565d1f"
      },
      "cell_type": "code",
      "source": [
        "print(sonets[0])"
      ],
      "execution_count": 19,
      "outputs": [
        {
          "output_type": "stream",
          "text": [
            "from fairest creatures we desire increase,\n",
            "that thereby beauty's rose might never die,\n",
            "but as the riper should by time decease,\n",
            "his tender heir might bear his memory:\n",
            "but thou, contracted to thine own bright eyes,\n",
            "feed'st thy light'st flame with self-substantial fuel,\n",
            "making a famine where abundance lies,\n",
            "thyself thy foe, to thy sweet self too cruel.\n",
            "thou that art now the world's fresh ornament\n",
            "and only herald to the gaudy spring,\n",
            "within thine own bud buriest thy content\n",
            "and, tender churl, makest waste in niggarding.\n",
            "pity the world, or else this glutton be,\n",
            "to eat the world's due, by the grave and thee.\n",
            "\n"
          ],
          "name": "stdout"
        }
      ]
    },
    {
      "metadata": {
        "id": "wi0n9zUZ_2PG",
        "colab_type": "text"
      },
      "cell_type": "markdown",
      "source": [
        "Что делать, если вероятность нулевая?"
      ]
    },
    {
      "metadata": {
        "id": "9JktuCT4_0j-",
        "colab_type": "code",
        "colab": {
          "base_uri": "https://localhost:8080/",
          "height": 34
        },
        "outputId": "5540115b-6e3b-42da-8e80-f1768fd9f256"
      },
      "cell_type": "code",
      "source": [
        "# решение 1.1\n",
        "def sonet_log_prob(sonet):\n",
        "    p = unigram_prob(sonet[0])\n",
        "    for i in range(len(sonet)-1):      \n",
        "      p += np.log(cprob[sonet[i]].prob(sonet[i+1]) + eps)\n",
        "    return p\n",
        "\n",
        "sonet_log_prob(sonets[0])"
      ],
      "execution_count": 20,
      "outputs": [
        {
          "output_type": "execute_result",
          "data": {
            "text/plain": [
              "-1428.8359033355057"
            ]
          },
          "metadata": {
            "tags": []
          },
          "execution_count": 20
        }
      ]
    },
    {
      "metadata": {
        "id": "fDIJ_YavAKVj",
        "colab_type": "text"
      },
      "cell_type": "markdown",
      "source": [
        "## Задание 2\n",
        "Напишите функцию для генерации нового сонета фиксированной длины (или до токена конца)."
      ]
    },
    {
      "metadata": {
        "id": "QVromNx1-w-Z",
        "colab_type": "code",
        "colab": {}
      },
      "cell_type": "code",
      "source": [
        "# решение 2\n",
        "def generate_sonet(cprob, first_char, num_chars):\n",
        "    res = ''\n",
        "    res += first_char\n",
        "    for i in range(num_chars):\n",
        "        char = cprob[first_char].generate()\n",
        "        res += char\n",
        "        first_char = char\n",
        "        if char == \"E\":\n",
        "          break\n",
        "    return res"
      ],
      "execution_count": 0,
      "outputs": []
    },
    {
      "metadata": {
        "id": "hwkHiWPNAkro",
        "colab_type": "code",
        "colab": {
          "base_uri": "https://localhost:8080/",
          "height": 374
        },
        "outputId": "486dc7f4-57cc-4d5d-9f98-24ab12d25037"
      },
      "cell_type": "code",
      "source": [
        "print(generate_sonet(cprob, 'f', 1000))"
      ],
      "execution_count": 22,
      "outputs": [
        {
          "output_type": "stream",
          "text": [
            "fomes, n mmefo kle chamer te shend ternghere, prithe w?\n",
            "fo ay?\n",
            "arndisked sthe utonth allas mn thasey d my mit y w, g ild sh's, de pe tho's orecoot ary, tho orrls by murl thathoueere meathiveletot n no w th thy ang ys t h t sptisous,\n",
            "bas swichimall toubraron d t thimoalot's h cre wo ghethor juns's m ir uthey, sha imu is unosend d bloube d nd.\n",
            "lowillseneithe owieanofou arep, y s turitthurur vel my trjos thayoug 'e,\n",
            "all mpld pillinee m'd bundebuno bl thove,\n",
            "angug le s.\n",
            "wof vepioug coup chovere wsh whinde ly is buped les ther wees ghar w caus, s t.\n",
            "' wr\n",
            "wagoumy chy t sindner dan;\n",
            "dolican y f hthyst s oour.\n",
            "ofe ndsth ifrathalin d h thoo wan in armyof,\n",
            "se-beret s y wis re?\n",
            "memiser ld murgs henthou re pr'd ty ak nth l\n",
            "rort.\n",
            "bl cag ire nd f winoveemeieer wi meis hin derore t tink nosern dsinenthe alst isave fed lt\n",
            "hace.\n",
            "tilacaullownesouthikeathesanve tr.\n",
            "t heangree'silyet lerd t amyergrnd btheatharysthau ng n whincar\n",
            "iser;\n",
            "twi litha benge'w, thi bthe fooenoma vetecelloougumy, th t tot terepitof\n"
          ],
          "name": "stdout"
        }
      ]
    },
    {
      "metadata": {
        "id": "qG5zmdS_Uk8d",
        "colab_type": "text"
      },
      "cell_type": "markdown",
      "source": [
        "## N-gram word model"
      ]
    },
    {
      "metadata": {
        "id": "iijeZeOZUqES",
        "colab_type": "code",
        "colab": {}
      },
      "cell_type": "code",
      "source": [
        "words = \"\\n\".join([\"S {}\".format(s) for s in sonets]).split(\" \")\n",
        "freq = nltk.FreqDist(words)\n",
        "cfreq = nltk.ConditionalFreqDist(nltk.bigrams(words))\n",
        "cprob = nltk.ConditionalProbDist(cfreq, nltk.MLEProbDist)"
      ],
      "execution_count": 0,
      "outputs": []
    },
    {
      "metadata": {
        "id": "fXsjDsQQkpZz",
        "colab_type": "text"
      },
      "cell_type": "markdown",
      "source": [
        "#### Функция генерации по словам"
      ]
    },
    {
      "metadata": {
        "id": "Q1HkwCVTU6XA",
        "colab_type": "code",
        "colab": {}
      },
      "cell_type": "code",
      "source": [
        "def generate_word_sonet(cprob, first_word, num_words=100):\n",
        "    res = ''\n",
        "    # res += first_word\n",
        "    for i in range(num_words):\n",
        "        word = cprob[first_word].generate()\n",
        "        if \"E\" in word:\n",
        "          break\n",
        "        if \"S\" in word:\n",
        "          continue\n",
        "        res += \" \" + word\n",
        "        first_word = word\n",
        "    return res.strip()"
      ],
      "execution_count": 0,
      "outputs": []
    },
    {
      "metadata": {
        "id": "5cWawreBVFwa",
        "colab_type": "code",
        "colab": {
          "base_uri": "https://localhost:8080/",
          "height": 272
        },
        "outputId": "21792757-692c-4e81-d3fa-39e483af437e"
      },
      "cell_type": "code",
      "source": [
        "print(generate_word_sonet(cprob, \"S\"))"
      ],
      "execution_count": 25,
      "outputs": [
        {
          "output_type": "stream",
          "text": [
            "from faring ill.\n",
            "presume not to have profaned their show; their own thoughts, although their glory die.\n",
            "the world is most proud as an ever-fixed mark\n",
            "that looks his presence is, see till action, lust\n",
            "is perjured, murderous, bloody, full with white;\n",
            "when lofty trees i am beloved\n",
            "where i say, within that beauty dyed?\n",
            "both truth than i was true sight!\n",
            "or, if it only herald to register,\n",
            "that may i pray that smells,\n",
            "if not for eternity,\n",
            "which prove thee to rehearse?\n",
            "o, give full of you, but as mine,\n",
            "robb'd others' voices, that hidden in thy part of this inconstant mind,\n",
            "since that churl death my sin awards me be\n"
          ],
          "name": "stdout"
        }
      ]
    },
    {
      "metadata": {
        "id": "XxFc9zJ8A3oz",
        "colab_type": "text"
      },
      "cell_type": "markdown",
      "source": [
        "# Генерация текста, нейронные языковые модели"
      ]
    },
    {
      "metadata": {
        "id": "GITWswRYX6zL",
        "colab_type": "code",
        "colab": {
          "base_uri": "https://localhost:8080/",
          "height": 34
        },
        "outputId": "8613338e-e9ec-4571-eb8a-b637416b0db6"
      },
      "cell_type": "code",
      "source": [
        "import numpy as np\n",
        "import pandas as pd\n",
        "from keras.models import Sequential\n",
        "from keras.layers import Dense\n",
        "from keras.layers import Dropout\n",
        "from keras.layers import LSTM\n",
        "from keras.utils import np_utils"
      ],
      "execution_count": 26,
      "outputs": [
        {
          "output_type": "stream",
          "text": [
            "Using TensorFlow backend.\n"
          ],
          "name": "stderr"
        }
      ]
    },
    {
      "metadata": {
        "id": "R4rx0oY0YHsY",
        "colab_type": "text"
      },
      "cell_type": "markdown",
      "source": [
        "### Подготовка данных"
      ]
    },
    {
      "metadata": {
        "id": "91Vj_4cIApln",
        "colab_type": "code",
        "colab": {}
      },
      "cell_type": "code",
      "source": [
        "characters = sorted(list(set(text)))\n",
        "n_to_char = {n:char for n, char in enumerate(characters)}\n",
        "char_to_n = {char:n for n, char in enumerate(characters)}"
      ],
      "execution_count": 0,
      "outputs": []
    },
    {
      "metadata": {
        "id": "SSi1yrIuXVSj",
        "colab_type": "code",
        "colab": {
          "base_uri": "https://localhost:8080/",
          "height": 34
        },
        "outputId": "fdac54e7-1beb-4462-f017-be16eba2ff3c"
      },
      "cell_type": "code",
      "source": [
        "len(characters)"
      ],
      "execution_count": 28,
      "outputs": [
        {
          "output_type": "execute_result",
          "data": {
            "text/plain": [
              "40"
            ]
          },
          "metadata": {
            "tags": []
          },
          "execution_count": 28
        }
      ]
    },
    {
      "metadata": {
        "id": "paI11PRgXWBu",
        "colab_type": "code",
        "colab": {}
      },
      "cell_type": "code",
      "source": [
        "X = []\n",
        "Y = []\n",
        "length = len(text)\n",
        "seq_length = 10\n",
        "for i in range(0, length-seq_length, 1):\n",
        "  sequence = text[i:i + seq_length]\n",
        "  label =text[i + seq_length]\n",
        "  X.append([char_to_n[char] for char in sequence])\n",
        "  Y.append(char_to_n[label])"
      ],
      "execution_count": 0,
      "outputs": []
    },
    {
      "metadata": {
        "id": "A9Sg_sqcXtic",
        "colab_type": "code",
        "colab": {
          "base_uri": "https://localhost:8080/",
          "height": 34
        },
        "outputId": "d04c4292-ffc3-4274-a648-61fd92b787e2"
      },
      "cell_type": "code",
      "source": [
        "len(X), len(Y)"
      ],
      "execution_count": 37,
      "outputs": [
        {
          "output_type": "execute_result",
          "data": {
            "text/plain": [
              "(94475, 94475)"
            ]
          },
          "metadata": {
            "tags": []
          },
          "execution_count": 37
        }
      ]
    },
    {
      "metadata": {
        "id": "03zST_-NXzl8",
        "colab_type": "code",
        "colab": {}
      },
      "cell_type": "code",
      "source": [
        "X_modified = np.reshape(X, (len(X), seq_length, 1))\n",
        "X_modified = X_modified / float(len(characters))\n",
        "Y_modified = np_utils.to_categorical(Y)"
      ],
      "execution_count": 0,
      "outputs": []
    },
    {
      "metadata": {
        "id": "eirqjm00YKkR",
        "colab_type": "text"
      },
      "cell_type": "markdown",
      "source": [
        "### Обучение модели"
      ]
    },
    {
      "metadata": {
        "id": "AJeIRJ_tX2Zc",
        "colab_type": "code",
        "colab": {}
      },
      "cell_type": "code",
      "source": [
        "model = Sequential()\n",
        "model.add(LSTM(400, input_shape=(X_modified.shape[1], X_modified.shape[2]), return_sequences=True))\n",
        "model.add(Dropout(0.2))\n",
        "model.add(LSTM(400))\n",
        "model.add(Dropout(0.2))\n",
        "model.add(Dense(Y_modified.shape[1], activation='softmax'))\n",
        "model.compile(loss='categorical_crossentropy', optimizer='adam')"
      ],
      "execution_count": 0,
      "outputs": []
    },
    {
      "metadata": {
        "id": "UUcOobRwY2OK",
        "colab_type": "code",
        "colab": {}
      },
      "cell_type": "code",
      "source": [
        "def gen_rnn_sonet(string_mapped, model, res_len=500):\n",
        "  # generating characters\n",
        "  res = [n_to_char[c] for c in string_mapped]\n",
        "  for i in range(res_len):\n",
        "      x = np.reshape(string_mapped,(1,len(string_mapped), 1))\n",
        "      x = x / float(len(characters))\n",
        "      pred_index = np.argmax(model.predict(x, verbose=0))\n",
        "      seq = [n_to_char[value] for value in string_mapped]\n",
        "      string_mapped.append(pred_index)\n",
        "      string_mapped = string_mapped[1:len(string_mapped)]\n",
        "      res.extend(seq)\n",
        "  return \"\".join(res)"
      ],
      "execution_count": 0,
      "outputs": []
    },
    {
      "metadata": {
        "id": "h1DIV2gWZgYC",
        "colab_type": "code",
        "colab": {}
      },
      "cell_type": "code",
      "source": [
        "epochs = 50"
      ],
      "execution_count": 0,
      "outputs": []
    },
    {
      "metadata": {
        "id": "qeI2NfsBdYsU",
        "colab_type": "code",
        "colab": {
          "base_uri": "https://localhost:8080/",
          "height": 54
        },
        "outputId": "a058b3fb-52dc-4ed2-f788-88c484b4087b"
      },
      "cell_type": "code",
      "source": [
        "print(gen_rnn_sonet(X[np.random.choice(np.arange(len(X)))], model))"
      ],
      "execution_count": 59,
      "outputs": [
        {
          "output_type": "stream",
          "text": [
            "ere-througere-througre-throug e-throug t-throug ththroug thehroug the roug the toug the toug the toeg the toee the toee the toee the toee the toee the toee the toee the toee the toee the toee the toee the toee the toee the toee the toee the toee the toee the toee the toee the toee the toee the toee the toee the toee the toee the toee the toee the toee the toee the toee the toee the toee the toee the toee the toee the toee the toee the toee the toee the toee the toee the toee the toee the toee the toee the toee the toee the toee the toee the toee the toee the toee the toee the toee the toee the toee the toee the toee the toee the toee the toee the toee the toee the toee the toee the toee the toee the toee the toee the toee the toee the toee the toee the toee the toee the toee the toee the toee the toee the toee the toee the toee the toee the toee the toee the toee the toee the toee the toee the toee the toee the toee the toee the toee the toee the toee the toee the toee the toee the toee the toee the toee the toee the toee the toee the toee the toee the toee the toee the toee the toee the toee the toee the toee the toee the toee the toee the toee the toee the toee the toee the toee the toee the toee the toee the toee the toee the toee the toee the toee the toee the toee the toee the toee the toee the toee the toee the toee the toee the toee the toee the toee the toee the toee the toee the toee the toee the toee the toee the toee the toee the toee the toee the toee the toee the toee the toee the toee the toee the toee the toee the toee the toee the toee the toee the toee the toee the toee the toee the toee the toee the toee the toee the toee the toee the toee the toee the toee the toee the toee the toee the toee the toee the toee the toee the toee the toee the toee the toee the toee the toee the toee the toee the toee the toee the toee the toee the toee the toee the toee the toee the toee the toee the toee the toee the toee the toee the toee the toee the toee the toee the toee the toee the toee the toee the toee the toee the toee the toee the toee the toee the toee the toee the toee the toee the toee the toee the toee the toee the toee the toee the toee the toee the toee the toee the toee the toee the toee the toee the toee the toee the toee the toee the toee the toee the toee the toee the toee the toee the toee the toee the toee the toee the toee the toee the toee the toee the toee the toee the toee the toee the toee the toee the toee the toee the toee the toee the toee the toee the toee the toee the toee the toee the toee the toee the toee the toee the toee the toee the toee the toee the toee the toee the toee the toee the toee the toee the toee the toee the toee the toee the toee the toee the toee the toee the toee the toee the toee the toee the toee the toee the toee the toee the toee the toee the toee the toee the toee the toee the toee the toee the toee the toee the toee the toee the toee the toee the toee the toee the toee the toee the toee the toee the toee the toee the toee the toee the toee the toee the toee the toee the toee the toee the toee the toee the toee the toee the toee the toee the toee the toee the toee the toee the toee the toee the toee the toee the toee the toee the toee the toee the toee the toee the toee the toee the toee the toee the toee the toee the toee the toee the toee the toee the toee the toee the toee the toee the toee the toee the toee the toee the toee the toee the toee the toee the toee the toee the toee the toee the toee the toee the toee the toee the toee the toee the toee the toee the toee the toee the toee the toee the toee the toee the toee the toee the toee the toee the toee the toee the toee the toee the toee the toee the toee the toee the toee the toee the toee the toee the toee the toee the toee the toee the toee the toee the toee the toee the toee the toee the toee the toee the toee the toee the toee the toee the toee the toee the toee the toee the toee the toee the toee the toee the toee the toee the toee the toee the toee the toee the toee the toee the toee the toee the toee the toee the toee the toee the toee the toee the toee the toee the toee the toee the toee the toee the toee the toee the toee the toee the toee the toee the toee the toee the toee the toee the toee the toee the toee the toee the toee the toee the toee the toee the toee the toee the toee the toee the toee the toee the toee the toee the toee the toee the toee the toee the toee the toee the toee the toee the toee the toee the toee the toee the toee the toee the toee the toee the toee the toee the toee the toee the toee the toee the toee the toee the toee the toee the toee the toee the toee the toee the toee the toee the toee the toee the toee the toee the toee the toee the toee the toee the toee the toee the toee the toee the toee the toee the toee the toee the toee the toee the toee the toee the toee the toee the toee the toee the toee the toee the toee the toee the toee the toee the toee the toee the\n"
          ],
          "name": "stdout"
        }
      ]
    },
    {
      "metadata": {
        "id": "JDuduwBrYM0X",
        "colab_type": "code",
        "colab": {
          "base_uri": "https://localhost:8080/",
          "height": 581
        },
        "outputId": "3de33f5e-e376-40e8-c508-0ae71d6f0b84"
      },
      "cell_type": "code",
      "source": [
        "for epoch in range(epochs):\n",
        "  model.fit(X_modified, Y_modified, epochs=1, validation_split=0.05)\n",
        "  print(gen_rnn_sonet(X[np.random.choice(np.arange(len(X)))], model))"
      ],
      "execution_count": 0,
      "outputs": [
        {
          "output_type": "stream",
          "text": [
            "Train on 89751 samples, validate on 4724 samples\n",
            "Epoch 1/1\n",
            "89751/89751 [==============================] - 182s 2ms/step - loss: 2.4666 - val_loss: 2.3741\n",
            "nother thenother theother the ther the wher the woer the worr the worl the worldthe world he world te world th world theworld the orld the wrld the wold the word the worl the worldthe world he world te world th world theworld the orld the wrld the wold the word the worl the worldthe world he world te world th world theworld the orld the wrld the wold the word the worl the worldthe world he world te world th world theworld the orld the wrld the wold the word the worl the worldthe world he world te world th world theworld the orld the wrld the wold the word the worl the worldthe world he world te world th world theworld the orld the wrld the wold the word the worl the worldthe world he world te world th world theworld the orld the wrld the wold the word the worl the worldthe world he world te world th world theworld the orld the wrld the wold the word the worl the worldthe world he world te world th world theworld the orld the wrld the wold the word the worl the worldthe world he world te world th world theworld the orld the wrld the wold the word the worl the worldthe world he world te world th world theworld the orld the wrld the wold the word the worl the worldthe world he world te world th world theworld the orld the wrld the wold the word the worl the worldthe world he world te world th world theworld the orld the wrld the wold the word the worl the worldthe world he world te world th world theworld the orld the wrld the wold the word the worl the worldthe world he world te world th world theworld the orld the wrld the wold the word the worl the worldthe world he world te world th world theworld the orld the wrld the wold the word the worl the worldthe world he world te world th world theworld the orld the wrld the wold the word the worl the worldthe world he world te world th world theworld the orld the wrld the wold the word the worl the worldthe world he world te world th world theworld the orld the wrld the wold the word the worl the worldthe world he world te world th world theworld the orld the wrld the wold the word the worl the worldthe world he world te world th world theworld the orld the wrld the wold the word the worl the worldthe world he world te world th world theworld the orld the wrld the wold the word the worl the worldthe world he world te world th world theworld the orld the wrld the wold the word the worl the worldthe world he world te world th world theworld the orld the wrld the wold the word the worl the worldthe world he world te world th world theworld the orld the wrld the wold the word the worl the worldthe world he world te world th world theworld the orld the wrld the wold the word the worl the worldthe world he world te world th world theworld the orld the wrld the wold the word the worl the worldthe world he world te world th world theworld the orld the wrld the wold the word the worl the worldthe world he world te world th world theworld the orld the wrld the wold the word the worl the worldthe world he world te world th world theworld the orld the wrld the wold the word the worl the worldthe world he world te world th world theworld the orld the wrld the wold the word the worl the worldthe world he world te world th world theworld the orld the wrld the wold the word the worl the worldthe world he world te world th world theworld the orld the wrld the wold the word the worl the worldthe world he world te world th world theworld the orld the wrld the wold the word the worl the worldthe world he world te world th world theworld the orld the wrld the wold the word the worl the worldthe world he world te world th world theworld the orld the wrld the wold the word the worl the worldthe world he world te world th world theworld the orld the wrld the wold the word the worl the worldthe world he world te world th world theworld the orld the wrld the wold the word the worl the worldthe world he world te world th world theworld the orld the wrld the wold the word the worl the worldthe world he world te world th world theworld the orld the wrld the wold the word the worl the worldthe world he world te world th world theworld the orld the wrld the wold the word the worl the worldthe world he world te world th world theworld the orld the wrld the wold the word the worl the worldthe world he world te world th world theworld the orld the wrld the wold the word the worl the worldthe world he world te world th world theworld the orld the wrld the wold the word the worl the worldthe world he world te world th world theworld the orld the wrld the wold the word the worl the worldthe world he world te world th world theworld the orld the wrld the wold the word the worl the worldthe world he world te world th world theworld the orld the wrld the wold the word the worl the worldthe world he world te world th world theworld the orld the wrld the wold the word the worl the worldthe world he world te world th world theworld the orld the wrld the wold the word the worl the worldthe world he world te world th\n",
            "Train on 89751 samples, validate on 4724 samples\n",
            "Epoch 1/1\n",
            "89751/89751 [==============================] - 241s 3ms/step - loss: 2.3016 - val_loss: 2.2386\n",
            "dearly;\n",
            "thdearly;\n",
            "thearly;\n",
            "thearly;\n",
            "the rly;\n",
            "the wly;\n",
            "the wiy;\n",
            "the wil;\n",
            "the will\n",
            "the will the will the will the will the will the will the will the will the will the will the will the will the will the will the will the will the will the will the will the will the will the will the will the will the will the will the will the will the will the will the will the will the will the will the will the will the will the will the will the will the will the will the will the will the will the will the will the will the will the will the will the will the will the will the will the will the will the will the will the will the will the will the will the will the will the will the will the will the will the will the will the will the will the will the will the will the will the will the will the will the will the will the will the will the will the will the will the will the will the will the will the will the will the will the will the will the will the will the will the will the will the will the will the will the will the will the will the will the will the will the will the will the will the will the will the will the will the will the will the will the will the will the will the will the will the will the will the will the will the will the will the will the will the will the will the will the will the will the will the will the will the will the will the will the will the will the will the will the will the will the will the will the will the will the will the will the will the will the will the will the will the will the will the will the will the will the will the will the will the will the will the will the will the will the will the will the will the will the will the will the will the will the will the will the will the will the will the will the will the will the will the will the will the will the will the will the will the will the will the will the will the will the will the will the will the will the will the will the will the will the will the will the will the will the will the will the will the will the will the will the will the will the will the will the will the will the will the will the will the will the will the will the will the will the will the will the will the will the will the will the will the will the will the will the will the will the will the will the will the will the will the will the will the will the will the will the will the will the will the will the will the will the will the will the will the will the will the will the will the will the will the will the will the will the will the will the will the will the will the will the will the will the will the will the will the will the will the will the will the will the will the will the will the will the will the will the will the will the will the will the will the will the will the will the will the will the will the will the will the will the will the will the will the will the will the will the will the will the will the will the will the will the will the will the will the will the will the will the will the will the will the will the will the will the will the will the will the will the will the will the will the will the will the will the will the will the will the will the will the will the will the will the will the will the will the will the will the will the will the will the will the will the will the will the will the will the will the will the will the will the will the will the will the will the will the will the will the will the will the will the will the will the will the will the will the will the will the will the will the will the will the will the will the will the will the will the will the will the will the will the will the will the will the will the will the will the will the will the will the will the will the will the will the will the will the will the will the will the will the will the will the will the will the will the will the will the will the will the will the will the will the will the will the will the will the will the will the will the will the will the will the will the will the will the will the will the will the will the will the will the will the will the will the will the will the will the will the will the will the will the will the will the will the will the will the will the will the will the will the will the will the will the will the will the will the will the will the will the will the will the will the will the will the will the will the will the will the will the will the will the will the will the will the will the will the will the will the will the will the will the will the will the will the will the will the will the will the will the will the will the will the will the will the will the will the will the will the will the will the will the will the will the will the will the will the will the will the will the will the will the will the will the will the will the will the will the will the will the will the will the will the will the will the will the will the will the will the wi\n",
            "Train on 89751 samples, validate on 4724 samples\n",
            "Epoch 1/1\n",
            "89751/89751 [==============================] - 415s 5ms/step - loss: 2.1842 - val_loss: 2.1684\n",
            "l star thal star tha star thatstar that tar that tar that thr that the that the that the what the woat the wort the worl the worldthe world he world te world th world theworld the orld the wrld the wold the word the worl the worldthe world he world te world th world theworld the orld the wrld the wold the word the worl the worldthe world he world te world th world theworld the orld the wrld the wold the word the worl the worldthe world he world te world th world theworld the orld the wrld the wold the word the worl the worldthe world he world te world th world theworld the orld the wrld the wold the word the worl the worldthe world he world te world th world theworld the orld the wrld the wold the word the worl the worldthe world he world te world th world theworld the orld the wrld the wold the word the worl the worldthe world he world te world th world theworld the orld the wrld the wold the word the worl the worldthe world he world te world th world theworld the orld the wrld the wold the word the worl the worldthe world he world te world th world theworld the orld the wrld the wold the word the worl the worldthe world he world te world th world theworld the orld the wrld the wold the word the worl the worldthe world he world te world th world theworld the orld the wrld the wold the word the worl the worldthe world he world te world th world theworld the orld the wrld the wold the word the worl the worldthe world he world te world th world theworld the orld the wrld the wold the word the worl the worldthe world he world te world th world theworld the orld the wrld the wold the word the worl the worldthe world he world te world th world theworld the orld the wrld the wold the word the worl the worldthe world he world te world th world theworld the orld the wrld the wold the word the worl the worldthe world he world te world th world theworld the orld the wrld the wold the word the worl the worldthe world he world te world th world theworld the orld the wrld the wold the word the worl the worldthe world he world te world th world theworld the orld the wrld the wold the word the worl the worldthe world he world te world th world theworld the orld the wrld the wold the word the worl the worldthe world he world te world th world theworld the orld the wrld the wold the word the worl the worldthe world he world te world th world theworld the orld the wrld the wold the word the worl the worldthe world he world te world th world theworld the orld the wrld the wold the word the worl the worldthe world he world te world th world theworld the orld the wrld the wold the word the worl the worldthe world he world te world th world theworld the orld the wrld the wold the word the worl the worldthe world he world te world th world theworld the orld the wrld the wold the word the worl the worldthe world he world te world th world theworld the orld the wrld the wold the word the worl the worldthe world he world te world th world theworld the orld the wrld the wold the word the worl the worldthe world he world te world th world theworld the orld the wrld the wold the word the worl the worldthe world he world te world th world theworld the orld the wrld the wold the word the worl the worldthe world he world te world th world theworld the orld the wrld the wold the word the worl the worldthe world he world te world th world theworld the orld the wrld the wold the word the worl the worldthe world he world te world th world theworld the orld the wrld the wold the word the worl the worldthe world he world te world th world theworld the orld the wrld the wold the word the worl the worldthe world he world te world th world theworld the orld the wrld the wold the word the worl the worldthe world he world te world th world theworld the orld the wrld the wold the word the worl the worldthe world he world te world th world theworld the orld the wrld the wold the word the worl the worldthe world he world te world th world theworld the orld the wrld the wold the word the worl the worldthe world he world te world th world theworld the orld the wrld the wold the word the worl the worldthe world he world te world th world theworld the orld the wrld the wold the word the worl the worldthe world he world te world th world theworld the orld the wrld the wold the word the worl the worldthe world he world te world th world theworld the orld the wrld the wold the word the worl the worldthe world he world te world th world theworld the orld the wrld the wold the word the worl the worldthe world he world te world th world theworld the orld the wrld the wold the word the worl the worldthe world he world te world th world theworld the orld the wrld the wold the word the worl the worldthe world he world te world th world theworld the orld the wrld the wold the word the worl the worldthe world he world te world th world theworld the orld the wrld the wold the word the worl the worldthe world he world te world th world theworld the orld the wrld the wold the wor\n",
            "Train on 89751 samples, validate on 4724 samples\n",
            "Epoch 1/1\n",
            "89751/89751 [==============================] - 425s 5ms/step - loss: 2.0897 - val_loss: 2.1177\n",
            "aw my woefaw my woefw my woefn my woefnumy woefnu y woefnu t woefnu thwoefnu theoefnu the efnu the wfnu the wonu the woru the worl the worldthe world he world ae world an world andworld and orld and trld and thld and thed and the  and the wand the wond the word the worl the worldthe world he world ae world an world andworld and orld and trld and thld and thed and the  and the wand the wond the word the worl the worldthe world he world ae world an world andworld and orld and trld and thld and thed and the  and the wand the wond the word the worl the worldthe world he world ae world an world andworld and orld and trld and thld and thed and the  and the wand the wond the word the worl the worldthe world he world ae world an world andworld and orld and trld and thld and thed and the  and the wand the wond the word the worl the worldthe world he world ae world an world andworld and orld and trld and thld and thed and the  and the wand the wond the word the worl the worldthe world he world ae world an world andworld and orld and trld and thld and thed and the  and the wand the wond the word the worl the worldthe world he world ae world an world andworld and orld and trld and thld and thed and the  and the wand the wond the word the worl the worldthe world he world ae world an world andworld and orld and trld and thld and thed and the  and the wand the wond the word the worl the worldthe world he world ae world an world andworld and orld and trld and thld and thed and the  and the wand the wond the word the worl the worldthe world he world ae world an world andworld and orld and trld and thld and thed and the  and the wand the wond the word the worl the worldthe world he world ae world an world andworld and orld and trld and thld and thed and the  and the wand the wond the word the worl the worldthe world he world ae world an world andworld and orld and trld and thld and thed and the  and the wand the wond the word the worl the worldthe world he world ae world an world andworld and orld and trld and thld and thed and the  and the wand the wond the word the worl the worldthe world he world ae world an world andworld and orld and trld and thld and thed and the  and the wand the wond the word the worl the worldthe world he world ae world an world andworld and orld and trld and thld and thed and the  and the wand the wond the word the worl the worldthe world he world ae world an world andworld and orld and trld and thld and thed and the  and the wand the wond the word the worl the worldthe world he world ae world an world andworld and orld and trld and thld and thed and the  and the wand the wond the word the worl the worldthe world he world ae world an world andworld and orld and trld and thld and thed and the  and the wand the wond the word the worl the worldthe world he world ae world an world andworld and orld and trld and thld and thed and the  and the wand the wond the word the worl the worldthe world he world ae world an world andworld and orld and trld and thld and thed and the  and the wand the wond the word the worl the worldthe world he world ae world an world andworld and orld and trld and thld and thed and the  and the wand the wond the word the worl the worldthe world he world ae world an world andworld and orld and trld and thld and thed and the  and the wand the wond the word the worl the worldthe world he world ae world an world andworld and orld and trld and thld and thed and the  and the wand the wond the word the worl the worldthe world he world ae world an world andworld and orld and trld and thld and thed and the  and the wand the wond the word the worl the worldthe world he world ae world an world andworld and orld and trld and thld and thed and the  and the wand the wond the word the worl the worldthe world he world ae world an world andworld and orld and trld and thld and thed and the  and the wand the wond the word the worl the worldthe world he world ae world an world andworld and orld and trld and thld and thed and the  and the wand the wond the word the worl the worldthe world he world ae world an world andworld and orld and trld and thld and thed and the  and the wand the wond the word the worl the worldthe world he world ae world an world andworld and orld and trld and thld and thed and the  and the wand the wond the word the worl the worldthe world he world ae world an world andworld and orld and trld and thld and thed and the  and the wand the wond the word the worl the worldthe world he world ae world an world andworld and orld and trld and thld and thed and the  and the wand the wond the word the worl the worldthe world he world ae world an world andworld and orld and trld and thld and thed and the  and the wand the wond the word the worl the worldthe world he world ae world an world andworld and orld and trld and thld and thed and the  and the wand the wond the word the worl the worldthe world he world ae world an world andworld and orld and trld and thld and thed and the  and the wand the wo\n",
            "Train on 89751 samples, validate on 4724 samples\n",
            "Epoch 1/1\n",
            "89751/89751 [==============================] - 421s 5ms/step - loss: 2.0082 - val_loss: 2.1056\n",
            "ou to reciou to reciu to recin to recingto recing o recing t recing threcing theecing the cing the sing the shng the shag the shat the shat the shat the shat the shat tho shat thoushat thou hat thou aat thou art thou art thou art thou art thou art thou art theu art the  art the sart the sert the seat the sear the searothe searonhe searon e searon o searon ofsearon of earon of taron of thron of theon of the n of the s of the siof the simf the sime the sime the sime the sime the sime tha sime thatsime that ime that tme that the that tho that thouthat thou hat thou aat thou art thou art thou art thou art thou art thou art theu art the  art the sart the sert the seat the sear the searothe searonhe searon e searon o searon ofsearon of earon of taron of thron of theon of the n of the s of the siof the simf the sime the sime the sime the sime the sime tha sime thatsime that ime that tme that the that tho that thouthat thou hat thou aat thou art thou art thou art thou art thou art thou art theu art the  art the sart the sert the seat the sear the searothe searonhe searon e searon o searon ofsearon of earon of taron of thron of theon of the n of the s of the siof the simf the sime the sime the sime the sime the sime tha sime thatsime that ime that tme that the that tho that thouthat thou hat thou aat thou art thou art thou art thou art thou art thou art theu art the  art the sart the sert the seat the sear the searothe searonhe searon e searon o searon ofsearon of earon of taron of thron of theon of the n of the s of the siof the simf the sime the sime the sime the sime the sime tha sime thatsime that ime that tme that the that tho that thouthat thou hat thou aat thou art thou art thou art thou art thou art thou art theu art the  art the sart the sert the seat the sear the searothe searonhe searon e searon o searon ofsearon of earon of taron of thron of theon of the n of the s of the siof the simf the sime the sime the sime the sime the sime tha sime thatsime that ime that tme that the that tho that thouthat thou hat thou aat thou art thou art thou art thou art thou art thou art theu art the  art the sart the sert the seat the sear the searothe searonhe searon e searon o searon ofsearon of earon of taron of thron of theon of the n of the s of the siof the simf the sime the sime the sime the sime the sime tha sime thatsime that ime that tme that the that tho that thouthat thou hat thou aat thou art thou art thou art thou art thou art thou art theu art the  art the sart the sert the seat the sear the searothe searonhe searon e searon o searon ofsearon of earon of taron of thron of theon of the n of the s of the siof the simf the sime the sime the sime the sime the sime tha sime thatsime that ime that tme that the that tho that thouthat thou hat thou aat thou art thou art thou art thou art thou art thou art theu art the  art the sart the sert the seat the sear the searothe searonhe searon e searon o searon ofsearon of earon of taron of thron of theon of the n of the s of the siof the simf the sime the sime the sime the sime the sime tha sime thatsime that ime that tme that the that tho that thouthat thou hat thou aat thou art thou art thou art thou art thou art thou art theu art the  art the sart the sert the seat the sear the searothe searonhe searon e searon o searon ofsearon of earon of taron of thron of theon of the n of the s of the siof the simf the sime the sime the sime the sime the sime tha sime thatsime that ime that tme that the that tho that thouthat thou hat thou aat thou art thou art thou art thou art thou art thou art theu art the  art the sart the sert the seat the sear the searothe searonhe searon e searon o searon ofsearon of earon of taron of thron of theon of the n of the s of the siof the simf the sime the sime the sime the sime the sime tha sime thatsime that ime that tme that the that tho that thouthat thou hat thou aat thou art thou art thou art thou art thou art thou art theu art the  art the sart the sert the seat the sear the searothe searonhe searon e searon o searon ofsearon of earon of taron of thron of theon of the n of the s of the siof the simf the sime the sime the sime the sime the sime tha sime thatsime that ime that tme that the that tho that thouthat thou hat thou aat thou art thou art thou art thou art thou art thou art theu art the  art the sart the sert the seat the sear the searothe searonhe searon e searon o searon ofsearon of earon of taron of thron of theon of the n of the s of the siof the simf the sime the sime the sime the sime the sime tha sime thatsime that ime that tme that the that tho that thouthat thou hat thou aat thou art thou art thou art thou art thou art thou art theu art the  art the sart the sert the seat the sear the searothe searonhe searon e searon o searon ofsearon of earon of taron of thron of theon of the n of the s of the siof the simf the sime the sime the sime the sime the sime tha sime thatsime that ime that tme that the that tho that thouthat thou hat thou a\n",
            "Train on 89751 samples, validate on 4724 samples\n",
            "Epoch 1/1\n",
            "15520/89751 [====>.........................] - ETA: 5:39 - loss: 1.9255"
          ],
          "name": "stdout"
        }
      ]
    },
    {
      "metadata": {
        "id": "7GBgu_OAhDUu",
        "colab_type": "text"
      },
      "cell_type": "markdown",
      "source": [
        "### Несполько часов спустя...\n",
        "\n",
        "<pre>\n",
        "the riper should by time decease,\n",
        "his tender heir might bear his memory:\n",
        "but thou, contracted to thine own bright eyes,\n",
        "feed'st thy light's flame with self-substantial fuel,\n",
        "my beept is she breat oe bath dasehr ill:\n",
        "tirse do i pine and turfeit day by day,\n",
        "or gluttoning on all, or all away.\n",
        "why is my verse so barren of new pride,\n",
        "so far from variation or quick change?\n",
        "why with the time do i not glance aside\n",
        "to new-found methods, and to compounds strange?\n",
        "why write i stil\n",
        "</pre>"
      ]
    },
    {
      "metadata": {
        "id": "Mc8dHJbOYWgW",
        "colab_type": "code",
        "colab": {}
      },
      "cell_type": "code",
      "source": [
        ""
      ],
      "execution_count": 0,
      "outputs": []
    }
  ]
}